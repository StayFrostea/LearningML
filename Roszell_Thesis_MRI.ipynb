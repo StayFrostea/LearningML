{
  "nbformat": 4,
  "nbformat_minor": 0,
  "metadata": {
    "colab": {
      "name": "Roszell_Thesis_MRI",
      "provenance": [],
      "collapsed_sections": [],
      "authorship_tag": "ABX9TyO4gbUWpmJkKzezvwuu3CIm",
      "include_colab_link": true
    },
    "kernelspec": {
      "display_name": "Python 3",
      "name": "python3"
    },
    "language_info": {
      "name": "python"
    },
    "accelerator": "GPU"
  },
  "cells": [
    {
      "cell_type": "markdown",
      "metadata": {
        "id": "view-in-github",
        "colab_type": "text"
      },
      "source": [
        "<a href=\"https://colab.research.google.com/github/StayFrostea/LearningML/blob/main/Roszell_Thesis_MRI.ipynb\" target=\"_parent\"><img src=\"https://colab.research.google.com/assets/colab-badge.svg\" alt=\"Open In Colab\"/></a>"
      ]
    },
    {
      "cell_type": "markdown",
      "metadata": {
        "id": "yMQ6IBdJ-M4T"
      },
      "source": [
        "# This is the first baseline model of the MRI Thesis"
      ]
    },
    {
      "cell_type": "markdown",
      "metadata": {
        "id": "Dzn-XX9G-eoj"
      },
      "source": [
        "### Importing the dataset from Googler Drive"
      ]
    },
    {
      "cell_type": "code",
      "metadata": {
        "colab": {
          "base_uri": "https://localhost:8080/"
        },
        "id": "WnXDasQe-H0R",
        "outputId": "295e0714-2091-48a1-f6e3-b1b3ff3bb459"
      },
      "source": [
        "## Loading the google drive where I stored the MOSMEDDATA files\n",
        "from google.colab import drive\n",
        "drive.mount('/content/drive')"
      ],
      "execution_count": 13,
      "outputs": [
        {
          "output_type": "stream",
          "name": "stdout",
          "text": [
            "Drive already mounted at /content/drive; to attempt to forcibly remount, call drive.mount(\"/content/drive\", force_remount=True).\n"
          ]
        }
      ]
    },
    {
      "cell_type": "code",
      "metadata": {
        "id": "9BrXTHQk-Q4J"
      },
      "source": [
        "toTrain_path = '/content/drive/MyDrive/Colab Notebooks/Data/Keras MRI'\n",
        "toPredict_path = '/content/drive/MyDrive/Colab Notebooks/Data/Keras MRI'\n",
        "\n",
        "toTrain_path_output = '/content/drive/MyDrive/Colab Notebooks/Data/Keras MRI/output'\n",
        "toPredict_path_output = '/content/drive/MyDrive/Colab Notebooks/Data/Keras MRI/output'"
      ],
      "execution_count": 16,
      "outputs": []
    },
    {
      "cell_type": "markdown",
      "metadata": {
        "id": "uOlKQjal-qwU"
      },
      "source": [
        "### Sectioning off some of the data for prediction"
      ]
    },
    {
      "cell_type": "code",
      "metadata": {
        "id": "ncTbUP4m-2Df"
      },
      "source": [
        "# ## A tool for spliting the image files before processing\n",
        "# !pip install split-folders\n",
        "# import splitfolders\n",
        "\n",
        "# ## 80/20 Split of the data\n",
        "# splitfolders.ratio(toTrain_path, output=toTrain_path_output, seed=1337, ratio=(0.8, 0.2))\n",
        "# splitfolders.ratio(toPredict_path, output=toPredict_path_output, seed=1337, ratio=(0.8, 0.2))"
      ],
      "execution_count": 17,
      "outputs": []
    },
    {
      "cell_type": "code",
      "metadata": {
        "id": "VkadyJFLBhXX",
        "colab": {
          "base_uri": "https://localhost:8080/"
        },
        "outputId": "fd52ceb4-b101-430d-e5e8-45ec01cdea38"
      },
      "source": [
        "import os\n",
        "\n",
        "## Alzheimers Files\n",
        "path, dirs, files = next(os.walk(toTrain_path_output + '/train/AD'))\n",
        "file_count = len(files)\n",
        "file_count"
      ],
      "execution_count": 18,
      "outputs": [
        {
          "output_type": "execute_result",
          "data": {
            "text/plain": [
              "53"
            ]
          },
          "metadata": {},
          "execution_count": 18
        }
      ]
    },
    {
      "cell_type": "code",
      "metadata": {
        "id": "fRdWABALBt4J",
        "colab": {
          "base_uri": "https://localhost:8080/"
        },
        "outputId": "cac8058b-2c00-4df8-b05c-680420a0d331"
      },
      "source": [
        "## Normal Control Files\n",
        "path, dirs, files = next(os.walk(toTrain_path_output + '/train/NC'))\n",
        "file_count = len(files)\n",
        "file_count"
      ],
      "execution_count": 19,
      "outputs": [
        {
          "output_type": "execute_result",
          "data": {
            "text/plain": [
              "47"
            ]
          },
          "metadata": {},
          "execution_count": 19
        }
      ]
    },
    {
      "cell_type": "code",
      "metadata": {
        "id": "X5GuYHSUqYcs"
      },
      "source": [
        "import numpy as np\n",
        "import nibabel as nib\n",
        "from nibabel.testing import data_path\n",
        "from scipy import ndimage"
      ],
      "execution_count": 20,
      "outputs": []
    },
    {
      "cell_type": "code",
      "metadata": {
        "id": "4UBEoQS1B66r"
      },
      "source": [
        "## Read Function\n",
        "def read_NifTi(fp):\n",
        "    scan = nib.load(fp)\n",
        "    scan = scan.get_fdata()\n",
        "    return scan\n",
        "\n",
        "## Resize function\n",
        "def resizeVolume(img):\n",
        "\n",
        "    ## desired\n",
        "    d_depth = 64\n",
        "    d_width = 224\n",
        "    d_height = 224\n",
        "\n",
        "    ## current\n",
        "    c_depth = img.shape[-1]\n",
        "    c_width = img.shape[0]\n",
        "    c_height = img.shape[1]\n",
        "\n",
        "    ## factor to change by\n",
        "    d_factor = d_depth/c_depth\n",
        "    w_factor = d_width/c_width\n",
        "    h_factor = d_height/c_height\n",
        "\n",
        "    ## Adjust proper rotation\n",
        "    img = ndimage.rotate(img, 90, reshape = False)\n",
        "\n",
        "    ## apply the factors\n",
        "    img = ndimage.zoom(img, (w_factor, h_factor, d_factor), order = 1)\n",
        "\n",
        "    return img\n",
        "  \n",
        "## Normalize Function\n",
        "def normalizeVolume(vol):\n",
        "    min = -1000\n",
        "    max = 400\n",
        "    vol[vol < min] = min\n",
        "    vol[vol > max] = max\n",
        "    vol = (vol - min) / (max - min)\n",
        "    vol = vol.astype(\"float32\")\n",
        "    return vol\n",
        "\n",
        "## Processing Function\n",
        "def processVolume(path):\n",
        "    volume = read_NifTi(path)\n",
        "    volume = normalizeVolume(volume)\n",
        "    volume = resizeVolume(volume)\n",
        "    return volume"
      ],
      "execution_count": 21,
      "outputs": []
    },
    {
      "cell_type": "code",
      "metadata": {
        "id": "UcXv6BNtCA_5"
      },
      "source": [
        "## Setting up the filepaths for each file in NC\n",
        "normal_scan_paths = [\n",
        "    os.path.join(os.getcwd(), toTrain_path_output + '/train/NC', x)\n",
        "    for x in os.listdir(toTrain_path_output + '/train/NC')\n",
        "]\n",
        "\n",
        "## Setting up the filepaths for each file in class 2\n",
        "alzheimer_scan_paths = [\n",
        "    os.path.join(os.getcwd(), toTrain_path_output + '/train/AD', x)\n",
        "    for x in os.listdir(toTrain_path_output + '/train/AD')\n",
        "]"
      ],
      "execution_count": 22,
      "outputs": []
    },
    {
      "cell_type": "code",
      "metadata": {
        "id": "lPyj7hoACFFY"
      },
      "source": [
        "## Normal Subject files into numpy arrays\n",
        "normal_volumes = np.array([processVolume(path) for path in normal_scan_paths])\n",
        "normal_volume_labels = np.array([0 for _ in range(len(normal_volumes))])"
      ],
      "execution_count": 9,
      "outputs": []
    },
    {
      "cell_type": "code",
      "metadata": {
        "id": "Rt0xJWo2DOtI"
      },
      "source": [
        "## Alzheimer's Subject files into numpy arrays\n",
        "alzheimer_volumes = np.array([processVolume(path) for path in alzheimer_scan_paths])\n",
        "alzheimer_volume_labels = np.array([1 for _ in range(len(alzheimer_volumes))])"
      ],
      "execution_count": 10,
      "outputs": []
    },
    {
      "cell_type": "code",
      "metadata": {
        "id": "8tAP4M5HDqoH",
        "colab": {
          "base_uri": "https://localhost:8080/"
        },
        "outputId": "6f75b62c-85b8-454d-9042-d0c73d7d2d16"
      },
      "source": [
        "print(\"MRI scans with normal neuro presentation: \" + str(len(normal_scan_paths)))\n",
        "print(\"MRI scans with abnormal alzheimner's presentation: \" + str(len(alzheimer_scan_paths)))"
      ],
      "execution_count": 11,
      "outputs": [
        {
          "output_type": "stream",
          "name": "stdout",
          "text": [
            "MRI scans with normal neuro presentation: 47\n",
            "MRI scans with abnormal alzheimner's presentation: 53\n"
          ]
        }
      ]
    },
    {
      "cell_type": "code",
      "metadata": {
        "id": "w-Qr0hBfGtYV",
        "colab": {
          "base_uri": "https://localhost:8080/"
        },
        "outputId": "b898620d-93bc-44fd-91bc-1f7032209c05"
      },
      "source": [
        "## Is there an error here?\n",
        "\n",
        "## 60/20 Split of volumes\n",
        "X_train = np.concatenate((alzheimer_volumes[:40], normal_volumes[:40]), axis=0)\n",
        "y_train = np.concatenate((alzheimer_volume_labels[:40], normal_volume_labels[:40]), axis=0)\n",
        "\n",
        "X_val = np.concatenate((alzheimer_volumes[40:], normal_volumes[40:]), axis=0)\n",
        "y_val = np.concatenate((alzheimer_volume_labels[40:], normal_volume_labels[40:]), axis=0)\n",
        "\n",
        "print(   \n",
        "\"Number of samples in train and validation are %d and %d.\"\n",
        "    % (X_train.shape[0], X_val.shape[0])\n",
        ")\n",
        "X_train.shape"
      ],
      "execution_count": 12,
      "outputs": [
        {
          "output_type": "stream",
          "name": "stdout",
          "text": [
            "Number of samples in train and validation are 80 and 20.\n"
          ]
        },
        {
          "output_type": "execute_result",
          "data": {
            "text/plain": [
              "(80, 224, 224, 64)"
            ]
          },
          "metadata": {},
          "execution_count": 12
        }
      ]
    },
    {
      "cell_type": "markdown",
      "metadata": {
        "id": "SiNsMKd0HtEn"
      },
      "source": [
        "### Preprocessing Directives"
      ]
    },
    {
      "cell_type": "code",
      "metadata": {
        "id": "umqdOMSCHZLj"
      },
      "source": [
        "import random\n",
        "import tensorflow as tf\n",
        "from tensorflow import keras\n",
        "from tensorflow.keras import layers"
      ],
      "execution_count": 23,
      "outputs": []
    },
    {
      "cell_type": "code",
      "metadata": {
        "id": "GxV_Tgo4Hdzt"
      },
      "source": [
        "## Rotation Augmentation\n",
        "def rotate(volume):\n",
        "\n",
        "    def scipy_rotate(volume):\n",
        "        # define some rotation angles\n",
        "        angles = [-20, -10, -5, 5, 10, 20]\n",
        "        # pick angles at random\n",
        "        angle = random.choice(angles)\n",
        "        # rotate volume\n",
        "        volume = ndimage.rotate(volume, angle, reshape=False)\n",
        "        volume[volume < 0] = 0\n",
        "        volume[volume > 1] = 1\n",
        "        return volume\n",
        "\n",
        "    augmented_volume = tf.numpy_function(scipy_rotate, [volume], tf.float32)\n",
        "    return augmented_volume"
      ],
      "execution_count": 24,
      "outputs": []
    },
    {
      "cell_type": "code",
      "metadata": {
        "id": "8wj7QiliH1vZ"
      },
      "source": [
        "## For now we will not do preprocessing\n",
        "## Only add the the stack to match dimensionality\n",
        "\n",
        "def train_preprocess(volume, label):\n",
        "  # volume = rotate(volume)\n",
        "  volume = tf.stack((volume,)*3, axis = 3)\n",
        "  return volume, label\n",
        "def valid_preprocess(volume, label):\n",
        "  volume = tf.stack((volume,)*3, axis = 3)\n",
        "  return volume, label"
      ],
      "execution_count": 25,
      "outputs": []
    },
    {
      "cell_type": "code",
      "metadata": {
        "id": "6FF5evksIWhE",
        "colab": {
          "base_uri": "https://localhost:8080/",
          "height": 198
        },
        "outputId": "55e939cc-961d-479c-f01e-c4064e825f27"
      },
      "source": [
        "## Run the preprocessing Steps\n",
        "X_train_r, y_train_r = train_preprocess(X_train, y_train)\n",
        "X_val_r, y_val_r = valid_preprocess(X_val, y_train)"
      ],
      "execution_count": 26,
      "outputs": [
        {
          "output_type": "error",
          "ename": "NameError",
          "evalue": "ignored",
          "traceback": [
            "\u001b[0;31m---------------------------------------------------------------------------\u001b[0m",
            "\u001b[0;31mNameError\u001b[0m                                 Traceback (most recent call last)",
            "\u001b[0;32m<ipython-input-26-3ef00e1e26dc>\u001b[0m in \u001b[0;36m<module>\u001b[0;34m()\u001b[0m\n\u001b[1;32m      1\u001b[0m \u001b[0;31m## Run the preprocessing Steps\u001b[0m\u001b[0;34m\u001b[0m\u001b[0;34m\u001b[0m\u001b[0;34m\u001b[0m\u001b[0m\n\u001b[0;32m----> 2\u001b[0;31m \u001b[0mX_train_r\u001b[0m\u001b[0;34m,\u001b[0m \u001b[0my_train_r\u001b[0m \u001b[0;34m=\u001b[0m \u001b[0mtrain_preprocess\u001b[0m\u001b[0;34m(\u001b[0m\u001b[0mX_train\u001b[0m\u001b[0;34m,\u001b[0m \u001b[0my_train\u001b[0m\u001b[0;34m)\u001b[0m\u001b[0;34m\u001b[0m\u001b[0;34m\u001b[0m\u001b[0m\n\u001b[0m\u001b[1;32m      3\u001b[0m \u001b[0mX_val_r\u001b[0m\u001b[0;34m,\u001b[0m \u001b[0my_val_r\u001b[0m \u001b[0;34m=\u001b[0m \u001b[0mvalid_preprocess\u001b[0m\u001b[0;34m(\u001b[0m\u001b[0mX_val\u001b[0m\u001b[0;34m,\u001b[0m \u001b[0my_train\u001b[0m\u001b[0;34m)\u001b[0m\u001b[0;34m\u001b[0m\u001b[0;34m\u001b[0m\u001b[0m\n",
            "\u001b[0;31mNameError\u001b[0m: name 'X_train' is not defined"
          ]
        }
      ]
    },
    {
      "cell_type": "code",
      "metadata": {
        "id": "s5VLJfogJYH-"
      },
      "source": [
        "## Slicing Function\n",
        "def threeDToTwoD(threeDVol, numVol):\n",
        "\n",
        "  twoDVol = np.zeros((numVol*64, 224, 224, 3), np.float32)\n",
        "\n",
        "  count = 0\n",
        "\n",
        "  for i in range(numVol):\n",
        "    for j in range(64):\n",
        "      twoDVol[count] = threeDVol[i,:,:,:,j]\n",
        "      count = count + 1\n",
        "\n",
        "  return twoDVol"
      ],
      "execution_count": 27,
      "outputs": []
    },
    {
      "cell_type": "code",
      "metadata": {
        "id": "IBgkmVZqKioT"
      },
      "source": [
        "## Extending Labels to Match\n",
        "def extendLabels(labelArr, numVol):\n",
        "\n",
        "  newLabelArr = np.zeros((numVol * 64), np.float32)\n",
        "\n",
        "  for i in range(numVol):\n",
        "    for j in range(64):\n",
        "      newLabelArr[(i*64)+j] = labelArr[i]\n",
        "\n",
        "  return newLabelArr"
      ],
      "execution_count": 28,
      "outputs": []
    },
    {
      "cell_type": "code",
      "metadata": {
        "id": "HKnfxcEFKMGQ",
        "colab": {
          "base_uri": "https://localhost:8080/",
          "height": 232
        },
        "outputId": "3fdcdbad-69df-46da-81e7-c441cbdb8e43"
      },
      "source": [
        "## New arrays\n",
        "\n",
        "## First the training images\n",
        "X_train_f = threeDToTwoD(X_train_r, 80)\n",
        "\n",
        "## Second the validation images\n",
        "X_val_f = threeDToTwoD(X_val_r, 20)\n",
        "\n",
        "## Third the training labels\n",
        "y_train_f = extendLabels(y_train_r, 80)\n",
        "\n",
        "## Fourth the validation labels\n",
        "y_val_f = extendLabels(y_val_r, 20)"
      ],
      "execution_count": 29,
      "outputs": [
        {
          "output_type": "error",
          "ename": "NameError",
          "evalue": "ignored",
          "traceback": [
            "\u001b[0;31m---------------------------------------------------------------------------\u001b[0m",
            "\u001b[0;31mNameError\u001b[0m                                 Traceback (most recent call last)",
            "\u001b[0;32m<ipython-input-29-7b226ac763d2>\u001b[0m in \u001b[0;36m<module>\u001b[0;34m()\u001b[0m\n\u001b[1;32m      2\u001b[0m \u001b[0;34m\u001b[0m\u001b[0m\n\u001b[1;32m      3\u001b[0m \u001b[0;31m## First the training images\u001b[0m\u001b[0;34m\u001b[0m\u001b[0;34m\u001b[0m\u001b[0;34m\u001b[0m\u001b[0m\n\u001b[0;32m----> 4\u001b[0;31m \u001b[0mX_train_f\u001b[0m \u001b[0;34m=\u001b[0m \u001b[0mthreeDToTwoD\u001b[0m\u001b[0;34m(\u001b[0m\u001b[0mX_train_r\u001b[0m\u001b[0;34m,\u001b[0m \u001b[0;36m80\u001b[0m\u001b[0;34m)\u001b[0m\u001b[0;34m\u001b[0m\u001b[0;34m\u001b[0m\u001b[0m\n\u001b[0m\u001b[1;32m      5\u001b[0m \u001b[0;34m\u001b[0m\u001b[0m\n\u001b[1;32m      6\u001b[0m \u001b[0;31m## Second the validation images\u001b[0m\u001b[0;34m\u001b[0m\u001b[0;34m\u001b[0m\u001b[0;34m\u001b[0m\u001b[0m\n",
            "\u001b[0;31mNameError\u001b[0m: name 'X_train_r' is not defined"
          ]
        }
      ]
    },
    {
      "cell_type": "markdown",
      "metadata": {
        "id": "xdMslY6dK96k"
      },
      "source": [
        "### Now the model"
      ]
    },
    {
      "cell_type": "code",
      "metadata": {
        "id": "10glJ2BtLCTr"
      },
      "source": [
        "import keras\n",
        "from keras.models import Sequential\n",
        "from keras.layers import Dense, Flatten, Conv3D, MaxPooling3D, Dropout, BatchNormalization\n",
        "import matplotlib.pyplot as plt\n",
        "from tensorflow import keras\n",
        "from tensorflow.keras import layers"
      ],
      "execution_count": 30,
      "outputs": []
    },
    {
      "cell_type": "code",
      "metadata": {
        "id": "1Mb9wIJOLqeH"
      },
      "source": [
        "data_augmentation = tf.keras.Sequential(\n",
        "    [layers.RandomFlip(\"horizontal\"), layers.RandomRotation(0.1),])"
      ],
      "execution_count": 21,
      "outputs": []
    },
    {
      "cell_type": "code",
      "metadata": {
        "id": "aWyVyORaLs1g",
        "colab": {
          "base_uri": "https://localhost:8080/"
        },
        "outputId": "1be10d06-f6d1-4552-fb06-ae77cbaa69a4"
      },
      "source": [
        "## The model build\n",
        "def buildModel():\n",
        "\n",
        "  initial_model = tf.keras.applications.VGG19(\n",
        "      weights = 'imagenet',\n",
        "      input_shape = (224,224,3),\n",
        "      include_top = False)\n",
        "  \n",
        "  ## Freeze the pretrained model parameters\n",
        "  initial_model.trainable = False\n",
        "\n",
        "  inputs = tf.keras.Input(shape = (224,224,3))\n",
        "\n",
        "  x = data_augmentation(inputs)\n",
        "\n",
        "  scale_layer = tf.keras.layers.Rescaling(scale=1 / 127.5, offset=-1)\n",
        "  x = scale_layer(x)\n",
        "\n",
        "  x = initial_model(inputs, training = False)\n",
        "  x = tf.keras.layers.GlobalAveragePooling2D()(x)\n",
        "  outputs = tf.keras.layers.Dense(1, activation='sigmoid')(x)\n",
        "\n",
        "  model = tf.keras.Model(inputs, outputs)\n",
        "  return model\n",
        "\n",
        "model = buildModel()\n",
        "model.summary()"
      ],
      "execution_count": 22,
      "outputs": [
        {
          "output_type": "stream",
          "name": "stdout",
          "text": [
            "Model: \"model\"\n",
            "_________________________________________________________________\n",
            " Layer (type)                Output Shape              Param #   \n",
            "=================================================================\n",
            " input_2 (InputLayer)        [(None, 224, 224, 3)]     0         \n",
            "                                                                 \n",
            " vgg19 (Functional)          (None, 7, 7, 512)         20024384  \n",
            "                                                                 \n",
            " global_average_pooling2d (G  (None, 512)              0         \n",
            " lobalAveragePooling2D)                                          \n",
            "                                                                 \n",
            " dense (Dense)               (None, 1)                 513       \n",
            "                                                                 \n",
            "=================================================================\n",
            "Total params: 20,024,897\n",
            "Trainable params: 513\n",
            "Non-trainable params: 20,024,384\n",
            "_________________________________________________________________\n"
          ]
        }
      ]
    },
    {
      "cell_type": "code",
      "metadata": {
        "id": "Che8qwfAL1tK"
      },
      "source": [
        "## Setting up the fit parameters\n",
        "lr_schedule = tf.keras.optimizers.schedules.ExponentialDecay(\n",
        "    0.01, decay_steps=100000, decay_rate=0.96, staircase=True\n",
        ")\n",
        "\n",
        "model.compile(loss = tf.keras.losses.BinaryCrossentropy(),\n",
        "              optimizer = tf.keras.optimizers.Adam(learning_rate=lr_schedule),\n",
        "              metrics = tf.keras.metrics.BinaryAccuracy(),\n",
        "              )\n",
        "\n",
        "## Defining checkpoints\n",
        "checkpoint_cb = tf.keras.callbacks.ModelCheckpoint(\n",
        "    \"3D_CT_classification.h5\", save_best_only=True\n",
        ")\n",
        "early_stopping_cb = tf.keras.callbacks.EarlyStopping(monitor='loss', patience=5)\n",
        "\n",
        "## How man runs\n",
        "epochs = 20"
      ],
      "execution_count": 42,
      "outputs": []
    },
    {
      "cell_type": "code",
      "metadata": {
        "id": "t64xs7N1L2Yv"
      },
      "source": [
        "## Training the model\n",
        "history = model.fit(x = X_train_f,\n",
        "                    y = y_train_f,\n",
        "                    validation_data=(X_val_f, y_val_f),\n",
        "                    epochs=epochs,\n",
        "                    shuffle=True,\n",
        "                    verbose='auto',\n",
        "                    callbacks = [ checkpoint_cb , early_stopping_cb],\n",
        "                    )"
      ],
      "execution_count": null,
      "outputs": []
    },
    {
      "cell_type": "code",
      "metadata": {
        "colab": {
          "base_uri": "https://localhost:8080/"
        },
        "id": "1PMddCgeapxc",
        "outputId": "42cdbdcc-a75c-4351-8d5d-01d217c77eea"
      },
      "source": [
        "# Calling `save('my_model')` creates a SavedModel folder `my_model`.\n",
        "model.save(\"MRI_model\")"
      ],
      "execution_count": 25,
      "outputs": [
        {
          "output_type": "stream",
          "name": "stdout",
          "text": [
            "INFO:tensorflow:Assets written to: MRI_model/assets\n"
          ]
        }
      ]
    },
    {
      "cell_type": "code",
      "metadata": {
        "id": "DLsMkxc-5LW8"
      },
      "source": [
        "from tensorflow import keras\n",
        "reloaded_model = keras.models.load_model(\"MRI_model\")"
      ],
      "execution_count": 9,
      "outputs": []
    },
    {
      "cell_type": "code",
      "metadata": {
        "colab": {
          "base_uri": "https://localhost:8080/"
        },
        "id": "4dCwhyCva3ul",
        "outputId": "04331cf6-de49-4190-8a8e-43a77d344964"
      },
      "source": [
        "print(history.history.keys())"
      ],
      "execution_count": 26,
      "outputs": [
        {
          "output_type": "stream",
          "name": "stdout",
          "text": [
            "dict_keys(['loss', 'binary_accuracy', 'val_loss', 'val_binary_accuracy'])\n"
          ]
        }
      ]
    },
    {
      "cell_type": "code",
      "metadata": {
        "colab": {
          "base_uri": "https://localhost:8080/",
          "height": 232
        },
        "id": "P-p1JWT3SpAp",
        "outputId": "5a93a465-9ad6-4f4a-a580-b37b3957e001"
      },
      "source": [
        "## Showing the accuracy as a graph for easier viewing\n",
        "import matplotlib.pyplot as plt\n",
        "\n",
        "plt.plot(history.history['binary_accuracy'])\n",
        "plt.plot(history.history['val_binary_accuracy'])\n",
        "plt.title('model accuracy')\n",
        "plt.ylabel('binary_accuracy')\n",
        "plt.xlabel('epoch')\n",
        "plt.legend(['train', 'test'], loc='upper left')\n",
        "plt.show()"
      ],
      "execution_count": 10,
      "outputs": [
        {
          "output_type": "error",
          "ename": "NameError",
          "evalue": "ignored",
          "traceback": [
            "\u001b[0;31m---------------------------------------------------------------------------\u001b[0m",
            "\u001b[0;31mNameError\u001b[0m                                 Traceback (most recent call last)",
            "\u001b[0;32m<ipython-input-10-1f3b56b2344f>\u001b[0m in \u001b[0;36m<module>\u001b[0;34m()\u001b[0m\n\u001b[1;32m      2\u001b[0m \u001b[0;32mimport\u001b[0m \u001b[0mmatplotlib\u001b[0m\u001b[0;34m.\u001b[0m\u001b[0mpyplot\u001b[0m \u001b[0;32mas\u001b[0m \u001b[0mplt\u001b[0m\u001b[0;34m\u001b[0m\u001b[0;34m\u001b[0m\u001b[0m\n\u001b[1;32m      3\u001b[0m \u001b[0;34m\u001b[0m\u001b[0m\n\u001b[0;32m----> 4\u001b[0;31m \u001b[0mplt\u001b[0m\u001b[0;34m.\u001b[0m\u001b[0mplot\u001b[0m\u001b[0;34m(\u001b[0m\u001b[0mhistory\u001b[0m\u001b[0;34m.\u001b[0m\u001b[0mhistory\u001b[0m\u001b[0;34m[\u001b[0m\u001b[0;34m'binary_accuracy'\u001b[0m\u001b[0;34m]\u001b[0m\u001b[0;34m)\u001b[0m\u001b[0;34m\u001b[0m\u001b[0;34m\u001b[0m\u001b[0m\n\u001b[0m\u001b[1;32m      5\u001b[0m \u001b[0mplt\u001b[0m\u001b[0;34m.\u001b[0m\u001b[0mplot\u001b[0m\u001b[0;34m(\u001b[0m\u001b[0mhistory\u001b[0m\u001b[0;34m.\u001b[0m\u001b[0mhistory\u001b[0m\u001b[0;34m[\u001b[0m\u001b[0;34m'val_binary_accuracy'\u001b[0m\u001b[0;34m]\u001b[0m\u001b[0;34m)\u001b[0m\u001b[0;34m\u001b[0m\u001b[0;34m\u001b[0m\u001b[0m\n\u001b[1;32m      6\u001b[0m \u001b[0mplt\u001b[0m\u001b[0;34m.\u001b[0m\u001b[0mtitle\u001b[0m\u001b[0;34m(\u001b[0m\u001b[0;34m'model accuracy'\u001b[0m\u001b[0;34m)\u001b[0m\u001b[0;34m\u001b[0m\u001b[0;34m\u001b[0m\u001b[0m\n",
            "\u001b[0;31mNameError\u001b[0m: name 'history' is not defined"
          ]
        }
      ]
    },
    {
      "cell_type": "code",
      "metadata": {
        "colab": {
          "base_uri": "https://localhost:8080/",
          "height": 295
        },
        "id": "x7LGmGMpTQVo",
        "outputId": "a0d8f446-8ccb-45ce-9de7-ec3847fd6ef9"
      },
      "source": [
        "plt.plot(history.history['loss'])\n",
        "plt.plot(history.history['val_loss'])\n",
        "plt.title('model loss')\n",
        "plt.ylabel('loss')\n",
        "plt.xlabel('epoch')\n",
        "plt.legend(['train', 'test'], loc='upper left')\n",
        "plt.show()"
      ],
      "execution_count": 28,
      "outputs": [
        {
          "output_type": "display_data",
          "data": {
            "image/png": "[encoded data removed]",
            "text/plain": [
              "<Figure size 432x288 with 1 Axes>"
            ]
          },
          "metadata": {
            "needs_background": "light"
          }
        }
      ]
    },
    {
      "cell_type": "markdown",
      "metadata": {
        "id": "Eeneeg3PNDRA"
      },
      "source": [
        "## Now to predict some and collec the stats"
      ]
    },
    {
      "cell_type": "code",
      "metadata": {
        "id": "_WneifiP6Hy7",
        "colab": {
          "base_uri": "https://localhost:8080/",
          "height": 232
        },
        "outputId": "2d956375-96e4-405d-da95-91904af445e8"
      },
      "source": [
        "## Alzheimers Files\n",
        "path, dirs, files = next(os.walk(toPredict_path_output + '/val/AD'))\n",
        "file_count = len(files)\n",
        "print(file_count)\n",
        "\n",
        "## Normal Control Files\n",
        "path, dirs, files = next(os.walk(toPredict_path_output + '/val/NC'))\n",
        "file_count = len(files)\n",
        "print(file_count)"
      ],
      "execution_count": 11,
      "outputs": [
        {
          "output_type": "error",
          "ename": "NameError",
          "evalue": "ignored",
          "traceback": [
            "\u001b[0;31m---------------------------------------------------------------------------\u001b[0m",
            "\u001b[0;31mNameError\u001b[0m                                 Traceback (most recent call last)",
            "\u001b[0;32m<ipython-input-11-4ecdd686dffb>\u001b[0m in \u001b[0;36m<module>\u001b[0;34m()\u001b[0m\n\u001b[1;32m      1\u001b[0m \u001b[0;31m## Alzheimers Files\u001b[0m\u001b[0;34m\u001b[0m\u001b[0;34m\u001b[0m\u001b[0;34m\u001b[0m\u001b[0m\n\u001b[0;32m----> 2\u001b[0;31m \u001b[0mpath\u001b[0m\u001b[0;34m,\u001b[0m \u001b[0mdirs\u001b[0m\u001b[0;34m,\u001b[0m \u001b[0mfiles\u001b[0m \u001b[0;34m=\u001b[0m \u001b[0mnext\u001b[0m\u001b[0;34m(\u001b[0m\u001b[0mos\u001b[0m\u001b[0;34m.\u001b[0m\u001b[0mwalk\u001b[0m\u001b[0;34m(\u001b[0m\u001b[0mtoPredict_path_output\u001b[0m \u001b[0;34m+\u001b[0m \u001b[0;34m'/val/AD'\u001b[0m\u001b[0;34m)\u001b[0m\u001b[0;34m)\u001b[0m\u001b[0;34m\u001b[0m\u001b[0;34m\u001b[0m\u001b[0m\n\u001b[0m\u001b[1;32m      3\u001b[0m \u001b[0mfile_count\u001b[0m \u001b[0;34m=\u001b[0m \u001b[0mlen\u001b[0m\u001b[0;34m(\u001b[0m\u001b[0mfiles\u001b[0m\u001b[0;34m)\u001b[0m\u001b[0;34m\u001b[0m\u001b[0;34m\u001b[0m\u001b[0m\n\u001b[1;32m      4\u001b[0m \u001b[0mprint\u001b[0m\u001b[0;34m(\u001b[0m\u001b[0mfile_count\u001b[0m\u001b[0;34m)\u001b[0m\u001b[0;34m\u001b[0m\u001b[0;34m\u001b[0m\u001b[0m\n\u001b[1;32m      5\u001b[0m \u001b[0;34m\u001b[0m\u001b[0m\n",
            "\u001b[0;31mNameError\u001b[0m: name 'os' is not defined"
          ]
        }
      ]
    },
    {
      "cell_type": "code",
      "metadata": {
        "id": "LqUeOfh6Nbvt"
      },
      "source": [
        "## Setting up the filepaths for each file in NC\n",
        "predict_normal_scan_paths = [\n",
        "    os.path.join(os.getcwd(), toPredict_path_output + '/val/NC', x)\n",
        "    for x in os.listdir(toPredict_path_output + '/val/NC')\n",
        "]\n",
        "\n",
        "## Setting up the filepaths for each file in class 2\n",
        "predict_alzheimer_scan_paths = [\n",
        "    os.path.join(os.getcwd(), toPredict_path_output + '/val/AD', x)\n",
        "    for x in os.listdir(toPredict_path_output + '/val/AD')\n",
        "]"
      ],
      "execution_count": 31,
      "outputs": []
    },
    {
      "cell_type": "code",
      "metadata": {
        "id": "sm4g6eKWN1pj",
        "colab": {
          "base_uri": "https://localhost:8080/"
        },
        "outputId": "2723922c-b1e4-4e18-c529-b7f4c3d0daed"
      },
      "source": [
        "## Normal Subject files into numpy arrays\n",
        "predict_normal_volumes = np.array([processVolume(path) for path in predict_normal_scan_paths])\n",
        "predict_normal_volume_labels = np.array([0 for _ in range(len(predict_normal_volumes))])\n",
        "\n",
        "## Alzheimer's Subject files into numpy arrays\n",
        "predict_alzheimer_volumes = np.array([processVolume(path) for path in predict_alzheimer_scan_paths])\n",
        "predict_alzheimer_volume_labels = np.array([1 for _ in range(len(predict_alzheimer_volumes))])\n",
        "\n",
        "print(\"MRI scans with normal neuro presentation: \" + str(len(predict_normal_scan_paths)))\n",
        "print(\"MRI scans with abnormal alzheimner's presentation: \" + str(len(predict_alzheimer_scan_paths)))"
      ],
      "execution_count": 32,
      "outputs": [
        {
          "output_type": "stream",
          "name": "stdout",
          "text": [
            "MRI scans with normal neuro presentation: 12\n",
            "MRI scans with abnormal alzheimner's presentation: 14\n"
          ]
        }
      ]
    },
    {
      "cell_type": "code",
      "metadata": {
        "id": "VEk5nS_kOZ6j"
      },
      "source": [
        "## Setting up the X and Y for predictions\n",
        "X_predict = np.concatenate((predict_normal_volumes, predict_alzheimer_volumes), axis=0)\n",
        "y_predict = np.concatenate((predict_normal_volume_labels, predict_alzheimer_volume_labels), axis=0)"
      ],
      "execution_count": 33,
      "outputs": []
    },
    {
      "cell_type": "code",
      "metadata": {
        "colab": {
          "base_uri": "https://localhost:8080/"
        },
        "id": "3sBoe3FsyWVx",
        "outputId": "6b0a9cce-6620-43e7-af56-9989ada62312"
      },
      "source": [
        "## Applying the same RGB fix\n",
        "X_predict_r, y_predict_r = train_preprocess(X_predict, y_predict)\n",
        "print(X_predict_r.shape)\n",
        "print(y_predict_r.shape)"
      ],
      "execution_count": 34,
      "outputs": [
        {
          "output_type": "stream",
          "name": "stdout",
          "text": [
            "(26, 224, 224, 3, 64)\n",
            "(26,)\n"
          ]
        }
      ]
    },
    {
      "cell_type": "code",
      "metadata": {
        "id": "LiHYktsgzd5S"
      },
      "source": [
        "## Second the validation images\n",
        "X_predict_f = threeDToTwoD(X_predict_r, 26)\n",
        "\n",
        "## Third the training labels\n",
        "y_predict_f = extendLabels(y_predict_r, 26)"
      ],
      "execution_count": 35,
      "outputs": []
    },
    {
      "cell_type": "code",
      "metadata": {
        "colab": {
          "base_uri": "https://localhost:8080/"
        },
        "id": "jlfnQ6Gc1fjd",
        "outputId": "54637a6b-2840-4679-8c4f-bef215dda83a"
      },
      "source": [
        "## Doing the predictions and getting the metrics\n",
        "prediction = reloaded_model.predict(X_predict_f)\n",
        "\n",
        "loss, metrics = reloaded_model.evaluate(X_predict_f, y_predict_f)"
      ],
      "execution_count": 38,
      "outputs": [
        {
          "output_type": "stream",
          "name": "stdout",
          "text": [
            "52/52 [==============================] - 15s 276ms/step - loss: 0.6878 - binary_accuracy: 0.5751\n"
          ]
        }
      ]
    },
    {
      "cell_type": "code",
      "metadata": {
        "colab": {
          "base_uri": "https://localhost:8080/"
        },
        "id": "r4JnN9VD4BbW",
        "outputId": "29a7cc86-fc43-4650-e483-37623e728d1a"
      },
      "source": [
        "## Displaying Predictions\n",
        "print(prediction)\n",
        "print(loss)\n",
        "print(metrics)"
      ],
      "execution_count": 39,
      "outputs": [
        {
          "output_type": "stream",
          "name": "stdout",
          "text": [
            "[[0.48815608]\n",
            " [0.48505202]\n",
            " [0.4904107 ]\n",
            " ...\n",
            " [0.5153944 ]\n",
            " [0.5128732 ]\n",
            " [0.5138044 ]]\n",
            "0.6878262758255005\n",
            "0.575120210647583\n"
          ]
        }
      ]
    },
    {
      "cell_type": "code",
      "metadata": {
        "id": "7FlMOXvK65ju"
      },
      "source": [
        ""
      ],
      "execution_count": null,
      "outputs": []
    }
  ]
}