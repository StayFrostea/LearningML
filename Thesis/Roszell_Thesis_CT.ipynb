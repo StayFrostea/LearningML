{
  "nbformat": 4,
  "nbformat_minor": 0,
  "metadata": {
    "colab": {
      "name": "Roszell_Thesis_CT.ipynb",
      "provenance": [],
      "collapsed_sections": [],
      "mount_file_id": "1-PsmIxRG6WzRsO35tfD8_E7Pl9oIQ5yP",
      "authorship_tag": "ABX9TyPoc0hGioXk9avHjinrQLh3",
      "include_colab_link": true
    },
    "kernelspec": {
      "name": "python3",
      "display_name": "Python 3"
    },
    "language_info": {
      "name": "python"
    },
    "accelerator": "GPU"
  },
  "cells": [
    {
      "cell_type": "markdown",
      "metadata": {
        "id": "view-in-github",
        "colab_type": "text"
      },
      "source": [
        "<a href=\"https://colab.research.google.com/github/StayFrostea/LearningML/blob/main/Roszell_Thesis_CT.ipynb\" target=\"_parent\"><img src=\"https://colab.research.google.com/assets/colab-badge.svg\" alt=\"Open In Colab\"/></a>"
      ]
    },
    {
      "cell_type": "markdown",
      "metadata": {
        "id": "HXcf-DnmL4y8"
      },
      "source": [
        "## Loading in the images from goodle drive"
      ]
    },
    {
      "cell_type": "code",
      "metadata": {
        "id": "muZW-q4Ji8Zr",
        "colab": {
          "base_uri": "https://localhost:8080/"
        },
        "outputId": "3bff0ac2-b68b-4276-dc62-d4fd87b08ab6"
      },
      "source": [
        "## Loading the google drive where I stored the MOSMEDDATA files\n",
        "from google.colab import drive\n",
        "drive.mount('/content/drive')"
      ],
      "execution_count": null,
      "outputs": [
        {
          "output_type": "stream",
          "name": "stdout",
          "text": [
            "Drive already mounted at /content/drive; to attempt to forcibly remount, call drive.mount(\"/content/drive\", force_remount=True).\n"
          ]
        }
      ]
    },
    {
      "cell_type": "code",
      "metadata": {
        "colab": {
          "base_uri": "https://localhost:8080/"
        },
        "id": "7CN4UqYKmhVI",
        "outputId": "7085d677-66db-4879-c314-3756423e2a68"
      },
      "source": [
        "## Paths for the data\n",
        "\n",
        "normal_path = '/content/drive/MyDrive/Colab Notebooks/Data/Keras CT'\n",
        "abnormal_path = '/content/drive/MyDrive/Colab Notebooks/Data/Keras CT'\n",
        "\n",
        "normal_path_output = '/content/drive/MyDrive/Colab Notebooks/Data/Keras CT/output'\n",
        "abnormal_path_output = '/content/drive/MyDrive/Colab Notebooks/Data/Keras CT/output'\n",
        "len(normal_path)"
      ],
      "execution_count": null,
      "outputs": [
        {
          "output_type": "execute_result",
          "data": {
            "text/plain": [
              "52"
            ]
          },
          "metadata": {},
          "execution_count": 2
        }
      ]
    },
    {
      "cell_type": "markdown",
      "metadata": {
        "id": "7cIqCA7BL_ti"
      },
      "source": [
        "## Splitting the \"files\" into seperate "
      ]
    },
    {
      "cell_type": "code",
      "metadata": {
        "colab": {
          "base_uri": "https://localhost:8080/"
        },
        "id": "FAlX8B9Jsw3j",
        "outputId": "719ef82e-814d-40e4-dcbe-61abcfe4a7f8"
      },
      "source": [
        "## A tool for spliting the image files before processing\n",
        "\n",
        "!pip install split-folders "
      ],
      "execution_count": null,
      "outputs": [
        {
          "output_type": "stream",
          "name": "stdout",
          "text": [
            "Collecting split-folders\n",
            "  Downloading split_folders-0.4.3-py3-none-any.whl (7.4 kB)\n",
            "Installing collected packages: split-folders\n",
            "Successfully installed split-folders-0.4.3\n"
          ]
        }
      ]
    },
    {
      "cell_type": "code",
      "metadata": {
        "id": "7E8d0lm3nVki"
      },
      "source": [
        "## Next up is to load the images into seperated folders\n",
        "## I want 90% of them to be invoplved in the train/validate split\n",
        "## Then I want 10% of them to never be touched by the model till I predict\n",
        "## I want to also split them before I slice them down into 2d chunks\n",
        "\n",
        "##import splitfolders\n",
        "\n",
        "##splitfolders.ratio(normal_path, output=normal_path_output, seed=1337, ratio=(0.8, 0.2))\n",
        "##splitfolders.ratio(abnormal_path, output=abnormal_path_output, seed=1337, ratio=(0.8, 0.2))"
      ],
      "execution_count": null,
      "outputs": []
    },
    {
      "cell_type": "code",
      "metadata": {
        "colab": {
          "base_uri": "https://localhost:8080/"
        },
        "id": "GXBN25XNoTer",
        "outputId": "f87c7c90-99f9-41e0-fc38-6d12abab7352"
      },
      "source": [
        "## Check how many files got split up\n",
        "import os\n",
        "\n",
        "path, dirs, files = next(os.walk(abnormal_path_output + '/train/class1'))\n",
        "file_count = len(files)\n",
        "file_count"
      ],
      "execution_count": null,
      "outputs": [
        {
          "output_type": "execute_result",
          "data": {
            "text/plain": [
              "80"
            ]
          },
          "metadata": {},
          "execution_count": 5
        }
      ]
    },
    {
      "cell_type": "code",
      "metadata": {
        "colab": {
          "base_uri": "https://localhost:8080/"
        },
        "id": "C1O0K0UlJPI8",
        "outputId": "64cf6dbc-4107-488e-f659-46c5d14bb5f5"
      },
      "source": [
        "## Check the second class has the same number of samples\n",
        "path, dirs, files = next(os.walk(abnormal_path_output + '/train/class2'))\n",
        "file_count = len(files)\n",
        "file_count"
      ],
      "execution_count": null,
      "outputs": [
        {
          "output_type": "execute_result",
          "data": {
            "text/plain": [
              "80"
            ]
          },
          "metadata": {},
          "execution_count": 6
        }
      ]
    },
    {
      "cell_type": "markdown",
      "metadata": {
        "id": "e0PAPBAQLrbE"
      },
      "source": [
        "## Now we are ready to load the files into the notebook as NifTi images"
      ]
    },
    {
      "cell_type": "code",
      "metadata": {
        "id": "qNMquv-JJVAY"
      },
      "source": [
        "import numpy as np\n",
        "import nibabel as nib\n",
        "from nibabel.testing import data_path\n",
        "from scipy import ndimage"
      ],
      "execution_count": null,
      "outputs": []
    },
    {
      "cell_type": "code",
      "metadata": {
        "id": "AxqS8_EBNEOo"
      },
      "source": [
        "## How to read in a NifTi file\n",
        "def read_NifTi(fp):\n",
        "    scan = nib.load(fp)\n",
        "    scan = scan.get_fdata()\n",
        "    return scan"
      ],
      "execution_count": null,
      "outputs": []
    },
    {
      "cell_type": "code",
      "metadata": {
        "id": "_lmA6KlIQV6C"
      },
      "source": [
        "## Change the size of the volume to something which matches the input parameters\n",
        "## of the pretrained model\n",
        "\n",
        "def resizeVolume(img):\n",
        "\n",
        "    ## desired\n",
        "    d_depth = 64\n",
        "    d_width = 150\n",
        "    d_height = 150\n",
        "\n",
        "    ## current\n",
        "    c_depth = img.shape[-1]\n",
        "    c_width = img.shape[0]\n",
        "    c_height = img.shape[1]\n",
        "\n",
        "    ## factor to change by\n",
        "    d_factor = d_depth/c_depth\n",
        "    w_factor = d_width/c_width\n",
        "    h_factor = d_height/c_height\n",
        "\n",
        "    ## Adjust proper rotation\n",
        "    img = ndimage.rotate(img, 90, reshape = False)\n",
        "\n",
        "    ## apply the factors\n",
        "    img = ndimage.zoom(img, (w_factor, h_factor, d_factor), order = 1)\n",
        "\n",
        "    return img"
      ],
      "execution_count": null,
      "outputs": []
    },
    {
      "cell_type": "code",
      "metadata": {
        "id": "6HxhXUCVTCtL"
      },
      "source": [
        "## Normalize the pixel intensity to between 0 and 1\n",
        "## Also change to float which is neccesary for th emodel\n",
        "\n",
        "def normalizeVolume(vol):\n",
        "    min = -1000\n",
        "    max = 400\n",
        "    vol[vol < min] = min\n",
        "    vol[vol > max] = max\n",
        "    vol = (vol - min) / (max - min)\n",
        "    vol = vol.astype(\"float32\")\n",
        "    return vol"
      ],
      "execution_count": null,
      "outputs": []
    },
    {
      "cell_type": "code",
      "metadata": {
        "id": "MKm0rI3EXHUP"
      },
      "source": [
        "def processVolume(path):\n",
        "    volume = read_NifTi(path)\n",
        "    volume = normalizeVolume(volume)\n",
        "    volume = resizeVolume(volume)\n",
        "    return volume"
      ],
      "execution_count": null,
      "outputs": []
    },
    {
      "cell_type": "code",
      "metadata": {
        "id": "8EEykgTXR6nS"
      },
      "source": [
        "normal_scan_paths = [\n",
        "    os.path.join(os.getcwd(), normal_path_output + '/train/class1', x)\n",
        "    for x in os.listdir(normal_path_output + '/train/class1')\n",
        "]\n",
        "\n",
        "abnormal_scan_paths = [\n",
        "    os.path.join(os.getcwd(), normal_path_output + '/train/class2', x)\n",
        "    for x in os.listdir(normal_path_output + '/train/class2')\n",
        "]"
      ],
      "execution_count": null,
      "outputs": []
    },
    {
      "cell_type": "code",
      "metadata": {
        "id": "ljUGNBjXXdB7"
      },
      "source": [
        "## Normal\n",
        "normal_volumes = np.array([processVolume(path) for path in normal_scan_paths])\n",
        "normal_volume_labels = np.array([0 for _ in range(len(normal_volumes))])"
      ],
      "execution_count": null,
      "outputs": []
    },
    {
      "cell_type": "code",
      "metadata": {
        "id": "bKqufSD5YMMc"
      },
      "source": [
        "## abNormal\n",
        "abnormal_volumes = np.array([processVolume(path) for path in abnormal_scan_paths])\n",
        "abnormal_volume_labels = np.array([1 for _ in range(len(abnormal_volumes))])"
      ],
      "execution_count": null,
      "outputs": []
    },
    {
      "cell_type": "code",
      "metadata": {
        "id": "2Pxzi0F5mAeY"
      },
      "source": [
        "print(\"CT scans with normal lung tissue: \" + str(len(normal_scan_paths)))\n",
        "print(\"CT scans with abnormal lung tissue: \" + str(len(abnormal_scan_paths)))"
      ],
      "execution_count": null,
      "outputs": []
    },
    {
      "cell_type": "markdown",
      "metadata": {
        "id": "yeqXglg2ahwX"
      },
      "source": [
        "## Now we can split the images into training and validation in order to train the model"
      ]
    },
    {
      "cell_type": "code",
      "metadata": {
        "id": "Xr__VpHGY2Pd",
        "colab": {
          "base_uri": "https://localhost:8080/"
        },
        "outputId": "135cbae4-9738-4ec5-b1a8-9999204a9343"
      },
      "source": [
        "## Example way\n",
        "## The [:60] means up to index 60\n",
        "## Therefore we will have a 60/20 split for train/val\n",
        "X_train = np.concatenate((abnormal_volumes[:60], normal_volumes[:60]), axis=0)\n",
        "y_train = np.concatenate((abnormal_volume_labels[:60], normal_volume_labels[:60]), axis=0)\n",
        "\n",
        "X_val = np.concatenate((abnormal_volumes[60:], normal_volumes[60:]), axis=0)\n",
        "y_val = np.concatenate((abnormal_volume_labels[60:], normal_volume_labels[60:]), axis=0)\n",
        "\n",
        "print( \n",
        "    \n",
        "\"Number of samples in train and validation are %d and %d.\"\n",
        "    % (X_train.shape[0], X_val.shape[0])\n",
        ")\n",
        "X_train.shape"
      ],
      "execution_count": null,
      "outputs": [
        {
          "output_type": "stream",
          "name": "stdout",
          "text": [
            "Number of samples in train and validation are 120 and 40.\n"
          ]
        },
        {
          "output_type": "execute_result",
          "data": {
            "text/plain": [
              "(120, 150, 150, 64)"
            ]
          },
          "metadata": {},
          "execution_count": 16
        }
      ]
    },
    {
      "cell_type": "markdown",
      "metadata": {
        "id": "pNKpqjmuTxS1"
      },
      "source": [
        "## This is where I will put preprocessing."
      ]
    },
    {
      "cell_type": "code",
      "metadata": {
        "id": "HcrxVLLPUJQJ"
      },
      "source": [
        "import random\n",
        "import tensorflow as tf\n",
        "\n",
        "from tensorflow import keras\n",
        "from tensorflow.keras import layers\n",
        "\n",
        "## Some augmentation by rotation\n",
        "\n",
        "def rotate(volume):\n",
        "\n",
        "    def scipy_rotate(volume):\n",
        "        # define some rotation angles\n",
        "        angles = [-20, -10, -5, 5, 10, 20]\n",
        "        # pick angles at random\n",
        "        angle = random.choice(angles)\n",
        "        # rotate volume\n",
        "        volume = ndimage.rotate(volume, angle, reshape=False)\n",
        "        volume[volume < 0] = 0\n",
        "        volume[volume > 1] = 1\n",
        "        return volume\n",
        "\n",
        "    augmented_volume = tf.numpy_function(scipy_rotate, [volume], tf.float32)\n",
        "    return augmented_volume\n",
        "\n",
        "\n",
        "## We rotate at random to remove the orientation effect on the model\n",
        "## Also we have stacked three of the same image into the 2nd dimension to fit\n",
        "## the imagenet input parameters\n",
        "def train_preprocess(volume, label):\n",
        "  volume = rotate(volume)\n",
        "  volume = tf.stack((volume,)*3, axis = 3)\n",
        "  return volume, label\n",
        "\n",
        "## No need to rotate the validation set\n",
        "def valid_preprocess(volume, label):\n",
        "  volume = tf.stack((volume,)*3, axis = 3)\n",
        "  return volume, label"
      ],
      "execution_count": null,
      "outputs": []
    },
    {
      "cell_type": "code",
      "metadata": {
        "colab": {
          "base_uri": "https://localhost:8080/"
        },
        "id": "6A27jdX0ZWvr",
        "outputId": "138733b1-8b24-4c61-a287-f9f05596288c"
      },
      "source": [
        "## Using the functions without Dataset\n",
        "X_train_r, y_train_r = train_preprocess(X_train, y_train)\n",
        "X_val_r, y_val_r = valid_preprocess(X_val, y_train)\n",
        "y_train_r.shape"
      ],
      "execution_count": null,
      "outputs": [
        {
          "output_type": "execute_result",
          "data": {
            "text/plain": [
              "(120,)"
            ]
          },
          "metadata": {},
          "execution_count": 18
        }
      ]
    },
    {
      "cell_type": "markdown",
      "metadata": {
        "id": "nUYP1zz9WedP"
      },
      "source": [
        "## Using tensorflows automated data loaders"
      ]
    },
    {
      "cell_type": "markdown",
      "metadata": {
        "id": "qFkMxpWMeWby"
      },
      "source": [
        "## Skipping this for now"
      ]
    },
    {
      "cell_type": "code",
      "metadata": {
        "id": "pe7KI8uVWk0f"
      },
      "source": [
        "# ## Use a library called tf.data.Dataset.from_tensor_slice\n",
        "# ## This will cut it into appropriate 2D slices and contain them in an array of 2d slices\n",
        "\n",
        "# train_loader = tf.data.Dataset.from_tensor_slices((X_train,y_train))\n",
        "\n",
        "# valid_loader = tf.data.Dataset.from_tensor_slices((X_val,y_val))"
      ],
      "execution_count": null,
      "outputs": []
    },
    {
      "cell_type": "code",
      "metadata": {
        "id": "J3uuN0q5YQX6"
      },
      "source": [
        "# import tensorflow_datasets as tfds\n",
        "\n",
        "# ## This is constructing the dataset to be passed into the model \n",
        "# ## for training and validation\n",
        "# batch_size = 1\n",
        "\n",
        "# train_dataset = (\n",
        "#     train_loader.shuffle(len(X_train))\n",
        "#     .map(train_preprocess)\n",
        "#     .batch(batch_size)\n",
        "#     .prefetch(1)\n",
        "# )\n",
        "\n",
        "# validation_dataset = (\n",
        "#     valid_loader.shuffle(len(X_val))\n",
        "#     .map(valid_preprocess)\n",
        "#     .batch(batch_size)\n",
        "#     .prefetch(1)\n",
        "# )"
      ],
      "execution_count": null,
      "outputs": []
    },
    {
      "cell_type": "code",
      "metadata": {
        "id": "YfbRngK-vSvu"
      },
      "source": [
        "X_train_r.shape"
      ],
      "execution_count": null,
      "outputs": []
    },
    {
      "cell_type": "code",
      "metadata": {
        "id": "lWhqbuVA16xx"
      },
      "source": [
        "X_val_r.shape"
      ],
      "execution_count": null,
      "outputs": []
    },
    {
      "cell_type": "markdown",
      "metadata": {
        "id": "wVUuk3ygeav4"
      },
      "source": [
        "## Working 3D volumes into 2D Image Array"
      ]
    },
    {
      "cell_type": "code",
      "metadata": {
        "id": "PoVHsX32oxn3"
      },
      "source": [
        "def threeDToTwoD(threeDVol, numVol):\n",
        "\n",
        "  twoDVol = np.zeros((numVol*64, 150, 150, 3), np.float32)\n",
        "\n",
        "  count = 0\n",
        "\n",
        "  for i in range(numVol):\n",
        "    for j in range(64):\n",
        "      twoDVol[count] = threeDVol[i,:,:,:,j]\n",
        "      count = count + 1\n",
        "\n",
        "  return twoDVol"
      ],
      "execution_count": null,
      "outputs": []
    },
    {
      "cell_type": "code",
      "metadata": {
        "id": "PclfuoCPwlCF"
      },
      "source": [
        "X_train_f = threeDToTwoD(X_train_r, 120)"
      ],
      "execution_count": null,
      "outputs": []
    },
    {
      "cell_type": "code",
      "metadata": {
        "colab": {
          "base_uri": "https://localhost:8080/"
        },
        "id": "sz98uRK9xOru",
        "outputId": "2edf1690-11e8-4d8e-a968-07786ba3e3cf"
      },
      "source": [
        "X_train_f.shape"
      ],
      "execution_count": null,
      "outputs": [
        {
          "output_type": "execute_result",
          "data": {
            "text/plain": [
              "(7680, 150, 150, 3)"
            ]
          },
          "metadata": {},
          "execution_count": 25
        }
      ]
    },
    {
      "cell_type": "code",
      "metadata": {
        "colab": {
          "base_uri": "https://localhost:8080/",
          "height": 286
        },
        "id": "i2I3quruxRUS",
        "outputId": "7e465150-7062-4784-c130-edbaab1340e4"
      },
      "source": [
        "import matplotlib.pyplot as plt\n",
        "\n",
        "## Person 0 @ 1/3 through\n",
        "\n",
        "image = X_train_f[20]\n",
        "plt.imshow(np.squeeze(image[:,:,1]), cmap =\"gray\")"
      ],
      "execution_count": null,
      "outputs": [
        {
          "output_type": "execute_result",
          "data": {
            "text/plain": [
              "<matplotlib.image.AxesImage at 0x7f54c056b450>"
            ]
          },
          "metadata": {},
          "execution_count": 26
        },
        {
          "output_type": "display_data",
          "data": {
            "image/png": "[encoded data removed]",
            "text/plain": [
              "<Figure size 432x288 with 1 Axes>"
            ]
          },
          "metadata": {
            "needs_background": "light"
          }
        }
      ]
    },
    {
      "cell_type": "code",
      "metadata": {
        "colab": {
          "base_uri": "https://localhost:8080/",
          "height": 286
        },
        "id": "e9cT_qVn0I_W",
        "outputId": "de764ca2-75c9-4822-92f0-22941399a742"
      },
      "source": [
        "## Person 1 @ 1/3 through\n",
        "image = X_train_f[84]\n",
        "plt.imshow(np.squeeze(image[:,:,1]), cmap =\"gray\")"
      ],
      "execution_count": null,
      "outputs": [
        {
          "output_type": "execute_result",
          "data": {
            "text/plain": [
              "<matplotlib.image.AxesImage at 0x7f54c00ceb10>"
            ]
          },
          "metadata": {},
          "execution_count": 27
        },
        {
          "output_type": "display_data",
          "data": {
            "image/png": "[encoded data removed]",
            "text/plain": [
              "<Figure size 432x288 with 1 Axes>"
            ]
          },
          "metadata": {
            "needs_background": "light"
          }
        }
      ]
    },
    {
      "cell_type": "code",
      "metadata": {
        "id": "6WwdEb7Q1nEF"
      },
      "source": [
        "## Now the validation volumes\n",
        "X_val_f = threeDToTwoD(X_val_r, 40)"
      ],
      "execution_count": null,
      "outputs": []
    },
    {
      "cell_type": "code",
      "metadata": {
        "id": "maG-t1FA3T-G"
      },
      "source": [
        "def extendLabels(labelArr, numVol):\n",
        "\n",
        "  newLabelArr = np.zeros((numVol * 64), np.float32)\n",
        "\n",
        "  for i in range(numVol):\n",
        "    for j in range(64):\n",
        "      newLabelArr[(i*64)+j] = labelArr[i]\n",
        "\n",
        "  return newLabelArr"
      ],
      "execution_count": null,
      "outputs": []
    },
    {
      "cell_type": "code",
      "metadata": {
        "id": "ngLueVpf2btg"
      },
      "source": [
        "## Now the labels\n",
        "y_train_f = extendLabels(y_train_r, 120)\n",
        "y_val_f = extendLabels(y_val_r, 40)"
      ],
      "execution_count": null,
      "outputs": []
    },
    {
      "cell_type": "code",
      "metadata": {
        "colab": {
          "base_uri": "https://localhost:8080/"
        },
        "id": "59Rxd-5c5jp2",
        "outputId": "3efb7ab5-1dfe-452e-9229-99ec699aa8b7"
      },
      "source": [
        "y_train_f.shape"
      ],
      "execution_count": null,
      "outputs": [
        {
          "data": {
            "text/plain": [
              "(7680,)"
            ]
          },
          "execution_count": null,
          "metadata": {},
          "output_type": "execute_result"
        },
        {
          "output_type": "execute_result",
          "data": {
            "text/plain": [
              "(7680,)"
            ]
          },
          "metadata": {},
          "execution_count": 31
        }
      ]
    },
    {
      "cell_type": "code",
      "metadata": {
        "colab": {
          "base_uri": "https://localhost:8080/"
        },
        "id": "N56kH5F05o4e",
        "outputId": "1e4cbb79-bdf7-4445-84d2-bfff3190f3a3"
      },
      "source": [
        "print(y_train_f[0], y_train_f[63], y_train_f[4112], y_train_f[4121])"
      ],
      "execution_count": null,
      "outputs": [
        {
          "output_type": "stream",
          "name": "stdout",
          "text": [
            "1.0 1.0 0.0 0.0\n"
          ]
        }
      ]
    },
    {
      "cell_type": "markdown",
      "metadata": {
        "id": "NA3EB6u1fW2W"
      },
      "source": [
        "## Finally the model"
      ]
    },
    {
      "cell_type": "code",
      "metadata": {
        "id": "p0R-XAWJda_t"
      },
      "source": [
        "import keras\n",
        "from keras.models import Sequential\n",
        "from keras.layers import Dense, Flatten, Conv3D, MaxPooling3D, Dropout, BatchNormalization\n",
        "import matplotlib.pyplot as plt"
      ],
      "execution_count": null,
      "outputs": []
    },
    {
      "cell_type": "code",
      "metadata": {
        "id": "oWVgqhpr-Ge4"
      },
      "source": [
        "from tensorflow import keras\n",
        "from tensorflow.keras import layers\n",
        "\n",
        "data_augmentation = tf.keras.Sequential(\n",
        "    [layers.RandomFlip(\"horizontal\"), layers.RandomRotation(0.1),]\n",
        ")"
      ],
      "execution_count": null,
      "outputs": []
    },
    {
      "cell_type": "code",
      "metadata": {
        "id": "co_FAylTgrs0",
        "colab": {
          "base_uri": "https://localhost:8080/"
        },
        "outputId": "a817f442-0f04-4797-c9bf-60a06f80c63e"
      },
      "source": [
        "def buildModel():\n",
        "\n",
        "  initial_model = tf.keras.applications.Xception(\n",
        "      weights = 'imagenet',\n",
        "      input_shape = (150,150,3),\n",
        "      include_top = False)\n",
        "  \n",
        "  ## Freeze the pretrained model parameters\n",
        "  initial_model.trainable = False\n",
        "\n",
        "  inputs = tf.keras.Input(shape = (150,150,3))\n",
        "\n",
        "  x = data_augmentation(inputs)\n",
        "\n",
        "  scale_layer = tf.keras.layers.Rescaling(scale=1 / 127.5, offset=-1)\n",
        "  x = scale_layer(x)\n",
        "\n",
        "  x = initial_model(inputs, training = False)\n",
        "  x = tf.keras.layers.GlobalAveragePooling2D()(x)\n",
        "  outputs = tf.keras.layers.Dense(1, activation='sigmoid')(x)\n",
        "\n",
        "  model = tf.keras.Model(inputs, outputs)\n",
        "  return model\n",
        "\n",
        "model = buildModel()\n",
        "model.summary()"
      ],
      "execution_count": null,
      "outputs": [
        {
          "output_type": "stream",
          "name": "stdout",
          "text": [
            "Model: \"model\"\n",
            "_________________________________________________________________\n",
            "Layer (type)                 Output Shape              Param #   \n",
            "=================================================================\n",
            "input_2 (InputLayer)         [(None, 150, 150, 3)]     0         \n",
            "_________________________________________________________________\n",
            "xception (Functional)        (None, 5, 5, 2048)        20861480  \n",
            "_________________________________________________________________\n",
            "global_average_pooling2d (Gl (None, 2048)              0         \n",
            "_________________________________________________________________\n",
            "dense (Dense)                (None, 1)                 2049      \n",
            "=================================================================\n",
            "Total params: 20,863,529\n",
            "Trainable params: 2,049\n",
            "Non-trainable params: 20,861,480\n",
            "_________________________________________________________________\n"
          ]
        }
      ]
    },
    {
      "cell_type": "code",
      "metadata": {
        "id": "4nU84AIAJotI"
      },
      "source": [
        "## Setting up the fit parameters\n",
        "lr_schedule = tf.keras.optimizers.schedules.ExponentialDecay(\n",
        "    0.0001, decay_steps=100000, decay_rate=0.96, staircase=True\n",
        ")\n",
        "\n",
        "model.compile(loss = tf.keras.losses.BinaryCrossentropy(),\n",
        "              optimizer = tf.keras.optimizers.Adam(learning_rate=lr_schedule),\n",
        "              metrics = tf.keras.metrics.BinaryAccuracy(),\n",
        "              )\n",
        "\n",
        "## Defining \n",
        "checkpoint_cb = tf.keras.callbacks.ModelCheckpoint(\n",
        "    \"3D_CT_classification.h5\", save_best_only=True\n",
        ")\n",
        "early_stopping_cb = tf.keras.callbacks.EarlyStopping(monitor='loss', patience=5)\n",
        "\n",
        "## How man runs\n",
        "epochs = 20"
      ],
      "execution_count": null,
      "outputs": []
    },
    {
      "cell_type": "code",
      "metadata": {
        "colab": {
          "base_uri": "https://localhost:8080/"
        },
        "id": "uFuWTen5amcm",
        "outputId": "5feb7c1e-1e18-4ec7-ffc5-2e20f574f48d"
      },
      "source": [
        "## Take the multiple 2D Ct images from each photo and add them into the same \n",
        "## dataset\n",
        "\n",
        "model.fit(x = X_train_f,\n",
        "          y = y_train_f,\n",
        "          validation_data=(X_val_f, y_val_f),\n",
        "          epochs=epochs,\n",
        "          shuffle=True,\n",
        "          verbose='auto',\n",
        "          callbacks = [ checkpoint_cb , early_stopping_cb],\n",
        "          )"
      ],
      "execution_count": null,
      "outputs": [
        {
          "metadata": {
            "tags": null
          },
          "name": "stdout",
          "output_type": "stream",
          "text": [
            "Epoch 1/20\n",
            "240/240 [==============================] - 75s 181ms/step - loss: 0.6718 - binary_accuracy: 0.5892 - val_loss: 0.6083 - val_binary_accuracy: 0.6648\n"
          ]
        },
        {
          "metadata": {
            "tags": null
          },
          "name": "stderr",
          "output_type": "stream",
          "text": [
            "/usr/local/lib/python3.7/dist-packages/keras/utils/generic_utils.py:497: CustomMaskWarning: Custom mask layers require a config and must override get_config. When loading, the custom mask layer must be passed to the custom_objects argument.\n",
            "  category=CustomMaskWarning)\n"
          ]
        },
        {
          "output_type": "stream",
          "name": "stdout",
          "text": [
            "Epoch 2/20\n",
            "240/240 [==============================] - 42s 175ms/step - loss: 0.6061 - binary_accuracy: 0.6921 - val_loss: 0.5946 - val_binary_accuracy: 0.6898\n",
            "Epoch 3/20\n",
            "240/240 [==============================] - 42s 173ms/step - loss: 0.5664 - binary_accuracy: 0.7332 - val_loss: 0.6276 - val_binary_accuracy: 0.6578\n",
            "Epoch 4/20\n",
            "240/240 [==============================] - 42s 175ms/step - loss: 0.5384 - binary_accuracy: 0.7523 - val_loss: 0.7412 - val_binary_accuracy: 0.5656\n",
            "Epoch 5/20\n",
            "240/240 [==============================] - 42s 174ms/step - loss: 0.5160 - binary_accuracy: 0.7676 - val_loss: 0.7008 - val_binary_accuracy: 0.6141\n",
            "Epoch 6/20\n",
            "240/240 [==============================] - 42s 174ms/step - loss: 0.4974 - binary_accuracy: 0.7818 - val_loss: 0.7958 - val_binary_accuracy: 0.5395\n",
            "Epoch 7/20\n",
            "240/240 [==============================] - 42s 174ms/step - loss: 0.4813 - binary_accuracy: 0.7923 - val_loss: 0.8571 - val_binary_accuracy: 0.4996\n",
            "Epoch 8/20\n",
            "240/240 [==============================] - 42s 175ms/step - loss: 0.4672 - binary_accuracy: 0.8022 - val_loss: 0.8019 - val_binary_accuracy: 0.5488\n",
            "Epoch 9/20\n",
            "240/240 [==============================] - 42s 175ms/step - loss: 0.4548 - binary_accuracy: 0.8095 - val_loss: 0.9415 - val_binary_accuracy: 0.4633\n",
            "Epoch 10/20\n",
            "240/240 [==============================] - 42s 174ms/step - loss: 0.4443 - binary_accuracy: 0.8177 - val_loss: 0.9965 - val_binary_accuracy: 0.4332\n",
            "Epoch 11/20\n",
            "240/240 [==============================] - 42s 173ms/step - loss: 0.4345 - binary_accuracy: 0.8195 - val_loss: 0.9445 - val_binary_accuracy: 0.4719\n",
            "Epoch 12/20\n",
            "240/240 [==============================] - 41s 172ms/step - loss: 0.4250 - binary_accuracy: 0.8251 - val_loss: 0.9792 - val_binary_accuracy: 0.4582\n",
            "Epoch 13/20\n",
            "240/240 [==============================] - 42s 175ms/step - loss: 0.4171 - binary_accuracy: 0.8262 - val_loss: 0.9246 - val_binary_accuracy: 0.4980\n",
            "Epoch 14/20\n",
            "240/240 [==============================] - 41s 171ms/step - loss: 0.4097 - binary_accuracy: 0.8314 - val_loss: 0.9978 - val_binary_accuracy: 0.4586\n",
            "Epoch 15/20\n",
            "240/240 [==============================] - 41s 171ms/step - loss: 0.4022 - binary_accuracy: 0.8345 - val_loss: 0.9951 - val_binary_accuracy: 0.4664\n",
            "Epoch 16/20\n",
            "240/240 [==============================] - 41s 170ms/step - loss: 0.3961 - binary_accuracy: 0.8380 - val_loss: 0.9996 - val_binary_accuracy: 0.4719\n",
            "Epoch 17/20\n",
            "240/240 [==============================] - 41s 172ms/step - loss: 0.3893 - binary_accuracy: 0.8411 - val_loss: 1.0937 - val_binary_accuracy: 0.4211\n",
            "Epoch 18/20\n",
            "240/240 [==============================] - 41s 170ms/step - loss: 0.3835 - binary_accuracy: 0.8440 - val_loss: 1.1030 - val_binary_accuracy: 0.4266\n",
            "Epoch 19/20\n",
            "240/240 [==============================] - 41s 170ms/step - loss: 0.3787 - binary_accuracy: 0.8467 - val_loss: 1.1753 - val_binary_accuracy: 0.3895\n",
            "Epoch 20/20\n",
            "240/240 [==============================] - 42s 174ms/step - loss: 0.3732 - binary_accuracy: 0.8523 - val_loss: 1.1427 - val_binary_accuracy: 0.4160\n"
          ]
        },
        {
          "output_type": "execute_result",
          "data": {
            "text/plain": [
              "<keras.callbacks.History at 0x7f2e99005e50>"
            ]
          },
          "metadata": {},
          "execution_count": 39
        }
      ]
    },
    {
      "cell_type": "markdown",
      "metadata": {
        "id": "VK1Ysw5FZPN0"
      },
      "source": [
        "## Next Steps"
      ]
    },
    {
      "cell_type": "code",
      "metadata": {
        "id": "ZUUHClvwZSIo"
      },
      "source": [
        "## Transfer to MRI notebook\n",
        "## Get it to work\n",
        "## Remove Preprocessing\n",
        "## Introduce Graphics for Results\n",
        "## Predict\n",
        "\n",
        "## The input size can be bigger than what the pretrained model is\n",
        "## Slices can get rid of the \"non-data\""
      ],
      "execution_count": null,
      "outputs": []
    },
    {
      "cell_type": "code",
      "metadata": {
        "id": "GeysufddbLCA"
      },
      "source": [
        "# ## Retraining after unfreezing base model\n",
        "# initial_model.trainable = True\n",
        "# model.compile(loss = tf.keras.losses.BinaryCrossentropy(),\n",
        "#               optimizer = tf.keras.optimizers.Adam(learning_rate=lr_schedule),\n",
        "#               metrics = keras.metrics.BinaryAccuracy(),\n",
        "#               )\n",
        "\n",
        "# ## Only need to train one layer so less epochs\n",
        "# epochs = 10\n",
        "\n",
        "# model.fit(train_dataset,\n",
        "#           validation_data=validation_dataset,\n",
        "#           epochs=epochs,\n",
        "#           shuffle=True,\n",
        "#           verbose='auto',\n",
        "#           callbacks = [ checkpoint_cb , early_stopping_cb],\n",
        "#           )"
      ],
      "execution_count": null,
      "outputs": []
    },
    {
      "cell_type": "code",
      "metadata": {
        "id": "Be-HRgrIjUDJ"
      },
      "source": [
        ""
      ],
      "execution_count": null,
      "outputs": []
    }
  ]
}