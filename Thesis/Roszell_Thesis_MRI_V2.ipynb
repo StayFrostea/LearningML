{
  "nbformat": 4,
  "nbformat_minor": 0,
  "metadata": {
    "colab": {
      "name": "Roszell_Thesis_MRI_V2",
      "provenance": [],
      "collapsed_sections": [],
      "machine_shape": "hm"
    },
    "kernelspec": {
      "display_name": "Python 3",
      "name": "python3"
    },
    "language_info": {
      "name": "python"
    },
    "accelerator": "GPU"
  },
  "cells": [
    {
      "cell_type": "markdown",
      "metadata": {
        "id": "yMQ6IBdJ-M4T"
      },
      "source": [
        "# This is the first baseline model of the MRI Thesis"
      ]
    },
    {
      "cell_type": "markdown",
      "metadata": {
        "id": "Dzn-XX9G-eoj"
      },
      "source": [
        "### Importing the dataset from Googler Drive"
      ]
    },
    {
      "cell_type": "code",
      "metadata": {
        "colab": {
          "base_uri": "https://localhost:8080/"
        },
        "id": "WnXDasQe-H0R",
        "outputId": "8a867b1a-c98f-4b8c-91f7-1d0b80be70d3"
      },
      "source": [
        "## Loading the google drive where I stored the MOSMEDDATA files\n",
        "from google.colab import drive\n",
        "drive.mount('/content/drive')"
      ],
      "execution_count": null,
      "outputs": [
        {
          "output_type": "stream",
          "name": "stdout",
          "text": [
            "Drive already mounted at /content/drive; to attempt to forcibly remount, call drive.mount(\"/content/drive\", force_remount=True).\n"
          ]
        }
      ]
    },
    {
      "cell_type": "code",
      "metadata": {
        "id": "9BrXTHQk-Q4J"
      },
      "source": [
        "toTrain_path = '/content/drive/MyDrive/Colab Notebooks/Data/Keras MRI'\n",
        "toPredict_path = '/content/drive/MyDrive/Colab Notebooks/Data/Keras MRI'\n",
        "\n",
        "toTrain_path_output = '/content/drive/MyDrive/Colab Notebooks/Data/Keras MRI/output_v2'\n",
        "toPredict_path_output = '/content/drive/MyDrive/Colab Notebooks/Data/Keras MRI/output_v2'"
      ],
      "execution_count": null,
      "outputs": []
    },
    {
      "cell_type": "markdown",
      "metadata": {
        "id": "uOlKQjal-qwU"
      },
      "source": [
        "### Sectioning off some of the data for prediction\n",
        "\n",
        "### In v2 I changed it from 80/20 to 95/5\n",
        "\n",
        "### This is primarily because I will be using an external dataset to test the model."
      ]
    },
    {
      "cell_type": "code",
      "metadata": {
        "id": "ncTbUP4m-2Df"
      },
      "source": [
        "# ## A tool for spliting the image files before processing\n",
        "# !pip install split-folders\n",
        "# import splitfolders\n",
        "\n",
        "# ## 80/20 Split of the data\n",
        "# splitfolders.ratio(toTrain_path, output=toTrain_path_output, seed=1337, ratio=(0.95, 0.05))\n",
        "# splitfolders.ratio(toPredict_path, output=toPredict_path_output, seed=1337, ratio=(0.95, 0.05))"
      ],
      "execution_count": null,
      "outputs": []
    },
    {
      "cell_type": "code",
      "metadata": {
        "id": "VkadyJFLBhXX",
        "colab": {
          "base_uri": "https://localhost:8080/"
        },
        "outputId": "2d883d40-743b-45f7-92d8-ef9b3ff79b11"
      },
      "source": [
        "import os\n",
        "\n",
        "## Alzheimers Files\n",
        "path, dirs, files = next(os.walk(toTrain_path_output + '/train/AD'))\n",
        "file_count = len(files)\n",
        "file_count"
      ],
      "execution_count": null,
      "outputs": [
        {
          "output_type": "execute_result",
          "data": {
            "text/plain": [
              "63"
            ]
          },
          "metadata": {},
          "execution_count": 4
        }
      ]
    },
    {
      "cell_type": "code",
      "metadata": {
        "id": "fRdWABALBt4J",
        "colab": {
          "base_uri": "https://localhost:8080/"
        },
        "outputId": "8cbae921-97be-479b-9d95-7344ca8a85a8"
      },
      "source": [
        "## Normal Control Files\n",
        "path, dirs, files = next(os.walk(toTrain_path_output + '/train/NC'))\n",
        "file_count = len(files)\n",
        "file_count"
      ],
      "execution_count": null,
      "outputs": [
        {
          "output_type": "execute_result",
          "data": {
            "text/plain": [
              "56"
            ]
          },
          "metadata": {},
          "execution_count": 5
        }
      ]
    },
    {
      "cell_type": "code",
      "metadata": {
        "id": "X5GuYHSUqYcs"
      },
      "source": [
        "import numpy as np\n",
        "import nibabel as nib\n",
        "from nibabel.testing import data_path\n",
        "from scipy import ndimage"
      ],
      "execution_count": null,
      "outputs": []
    },
    {
      "cell_type": "code",
      "metadata": {
        "id": "4UBEoQS1B66r"
      },
      "source": [
        "## Read Function\n",
        "def read_NifTi(fp):\n",
        "    scan = nib.load(fp)\n",
        "    scan = scan.get_fdata()\n",
        "    return scan\n",
        "\n",
        "## Resize function\n",
        "def resizeVolume(img):\n",
        "\n",
        "    ## desired\n",
        "    d_depth = 64\n",
        "    d_width = 224\n",
        "    d_height = 224\n",
        "\n",
        "    ## current\n",
        "    c_depth = img.shape[-1]\n",
        "    c_width = img.shape[0]\n",
        "    c_height = img.shape[1]\n",
        "\n",
        "    ## factor to change by\n",
        "    d_factor = d_depth/c_depth\n",
        "    w_factor = d_width/c_width\n",
        "    h_factor = d_height/c_height\n",
        "\n",
        "    ## Adjust proper rotation\n",
        "    img = ndimage.rotate(img, 90, reshape = False)\n",
        "\n",
        "    ## apply the factors\n",
        "    img = ndimage.zoom(img, (w_factor, h_factor, d_factor), order = 1)\n",
        "\n",
        "    return img\n",
        "  \n",
        "## Normalize Function\n",
        "def normalizeVolume(vol):\n",
        "    min = -1000\n",
        "    max = 400\n",
        "    vol[vol < min] = min\n",
        "    vol[vol > max] = max\n",
        "    vol = (vol - min) / (max - min)\n",
        "    vol = vol.astype(\"float32\")\n",
        "    return vol\n",
        "\n",
        "## Processing Function\n",
        "def processVolume(path):\n",
        "    volume = read_NifTi(path)\n",
        "    volume = normalizeVolume(volume)\n",
        "    volume = resizeVolume(volume)\n",
        "    return volume"
      ],
      "execution_count": null,
      "outputs": []
    },
    {
      "cell_type": "code",
      "metadata": {
        "id": "UcXv6BNtCA_5"
      },
      "source": [
        "## Setting up the filepaths for each file in NC\n",
        "normal_scan_paths = [\n",
        "    os.path.join(os.getcwd(), toTrain_path_output + '/train/NC', x)\n",
        "    for x in os.listdir(toTrain_path_output + '/train/NC')\n",
        "]\n",
        "\n",
        "## Setting up the filepaths for each file in class 2\n",
        "alzheimer_scan_paths = [\n",
        "    os.path.join(os.getcwd(), toTrain_path_output + '/train/AD', x)\n",
        "    for x in os.listdir(toTrain_path_output + '/train/AD')\n",
        "]"
      ],
      "execution_count": null,
      "outputs": []
    },
    {
      "cell_type": "code",
      "metadata": {
        "id": "lPyj7hoACFFY"
      },
      "source": [
        "## Normal Subject files into numpy arrays\n",
        "normal_volumes = np.array([processVolume(path) for path in normal_scan_paths])\n",
        "normal_volume_labels = np.array([0 for _ in range(len(normal_volumes))])"
      ],
      "execution_count": null,
      "outputs": []
    },
    {
      "cell_type": "code",
      "metadata": {
        "id": "Rt0xJWo2DOtI"
      },
      "source": [
        "## Alzheimer's Subject files into numpy arrays\n",
        "alzheimer_volumes = np.array([processVolume(path) for path in alzheimer_scan_paths])\n",
        "alzheimer_volume_labels = np.array([1 for _ in range(len(alzheimer_volumes))])"
      ],
      "execution_count": null,
      "outputs": []
    },
    {
      "cell_type": "code",
      "metadata": {
        "id": "8tAP4M5HDqoH",
        "colab": {
          "base_uri": "https://localhost:8080/"
        },
        "outputId": "9df41ec1-08e3-4846-8588-f66daba60efd"
      },
      "source": [
        "print(\"MRI scans with normal neuro presentation: \" + str(len(normal_scan_paths)))\n",
        "print(\"MRI scans with abnormal alzheimner's presentation: \" + str(len(alzheimer_scan_paths)))"
      ],
      "execution_count": null,
      "outputs": [
        {
          "output_type": "stream",
          "name": "stdout",
          "text": [
            "MRI scans with normal neuro presentation: 56\n",
            "MRI scans with abnormal alzheimner's presentation: 63\n"
          ]
        }
      ]
    },
    {
      "cell_type": "markdown",
      "source": [
        "### Here I changed the train and validation split to include more into the training data.\n",
        "\n",
        "### In the available examples we have 56 normal control and 63 alzheimer subjects"
      ],
      "metadata": {
        "id": "VuVRPGVNW3rV"
      }
    },
    {
      "cell_type": "code",
      "metadata": {
        "id": "w-Qr0hBfGtYV",
        "colab": {
          "base_uri": "https://localhost:8080/"
        },
        "outputId": "78128dd1-a354-453b-f74e-c4bfbf56f553"
      },
      "source": [
        "## 60/20 Split of volumes\n",
        "X_train = np.concatenate((alzheimer_volumes[:50], normal_volumes[:50]), axis=0)\n",
        "y_train = np.concatenate((alzheimer_volume_labels[:50], normal_volume_labels[:50]), axis=0)\n",
        "\n",
        "X_val = np.concatenate((alzheimer_volumes[50:], normal_volumes[50:]), axis=0)\n",
        "y_val = np.concatenate((alzheimer_volume_labels[50:], normal_volume_labels[50:]), axis=0)\n",
        "\n",
        "print(   \n",
        "\"Number of samples in train and validation are %d and %d.\"\n",
        "    % (X_train.shape[0], X_val.shape[0])\n",
        ")\n",
        "X_train.shape"
      ],
      "execution_count": null,
      "outputs": [
        {
          "output_type": "stream",
          "name": "stdout",
          "text": [
            "Number of samples in train and validation are 100 and 19.\n"
          ]
        },
        {
          "output_type": "execute_result",
          "data": {
            "text/plain": [
              "(100, 224, 224, 64)"
            ]
          },
          "metadata": {},
          "execution_count": 12
        }
      ]
    },
    {
      "cell_type": "markdown",
      "metadata": {
        "id": "SiNsMKd0HtEn"
      },
      "source": [
        "### Preprocessing Directives"
      ]
    },
    {
      "cell_type": "code",
      "metadata": {
        "id": "umqdOMSCHZLj"
      },
      "source": [
        "import random\n",
        "import tensorflow as tf\n",
        "from tensorflow import keras\n",
        "from tensorflow.keras import layers"
      ],
      "execution_count": null,
      "outputs": []
    },
    {
      "cell_type": "code",
      "metadata": {
        "id": "GxV_Tgo4Hdzt"
      },
      "source": [
        "## Rotation Augmentation\n",
        "def rotate(volume):\n",
        "\n",
        "    def scipy_rotate(volume):\n",
        "        # define some rotation angles\n",
        "        angles = [-20, -10, -5, 5, 10, 20]\n",
        "        # pick angles at random\n",
        "        angle = random.choice(angles)\n",
        "        # rotate volume\n",
        "        volume = ndimage.rotate(volume, angle, reshape=False)\n",
        "        volume[volume < 0] = 0\n",
        "        volume[volume > 1] = 1\n",
        "        return volume\n",
        "\n",
        "    augmented_volume = tf.numpy_function(scipy_rotate, [volume], tf.float32)\n",
        "    return augmented_volume"
      ],
      "execution_count": null,
      "outputs": []
    },
    {
      "cell_type": "code",
      "metadata": {
        "id": "8wj7QiliH1vZ"
      },
      "source": [
        "## For now we will not do preprocessing\n",
        "## Only add the the stack to match dimensionality\n",
        "\n",
        "def train_preprocess(volume, label):\n",
        "  # volume = rotate(volume)\n",
        "  volume = tf.stack((volume,)*3, axis = 3)\n",
        "  return volume, label\n",
        "def valid_preprocess(volume, label):\n",
        "  volume = tf.stack((volume,)*3, axis = 3)\n",
        "  return volume, label"
      ],
      "execution_count": null,
      "outputs": []
    },
    {
      "cell_type": "code",
      "metadata": {
        "id": "6FF5evksIWhE"
      },
      "source": [
        "## Run the preprocessing Steps\n",
        "X_train_r, y_train_r = train_preprocess(X_train, y_train)\n",
        "X_val_r, y_val_r = valid_preprocess(X_val, y_val)"
      ],
      "execution_count": null,
      "outputs": []
    },
    {
      "cell_type": "code",
      "metadata": {
        "id": "s5VLJfogJYH-"
      },
      "source": [
        "## Slicing Function\n",
        "def threeDToTwoD(threeDVol, numVol):\n",
        "\n",
        "  twoDVol = np.zeros((numVol*64, 224, 224, 3), np.float32)\n",
        "\n",
        "  count = 0\n",
        "\n",
        "  for i in range(numVol):\n",
        "    for j in range(64):\n",
        "      twoDVol[count] = threeDVol[i,:,:,:,j]\n",
        "      count = count + 1\n",
        "\n",
        "  return twoDVol"
      ],
      "execution_count": null,
      "outputs": []
    },
    {
      "cell_type": "code",
      "metadata": {
        "id": "IBgkmVZqKioT"
      },
      "source": [
        "## Extending Labels to Match\n",
        "def extendLabels(labelArr, numVol):\n",
        "\n",
        "  newLabelArr = np.zeros((numVol * 64), np.float32)\n",
        "\n",
        "  for i in range(numVol):\n",
        "    for j in range(64):\n",
        "      newLabelArr[(i*64)+j] = labelArr[i]\n",
        "\n",
        "  return newLabelArr"
      ],
      "execution_count": null,
      "outputs": []
    },
    {
      "cell_type": "markdown",
      "source": [
        "### Here I changed the inputs to match the size of the X_train and X_val"
      ],
      "metadata": {
        "id": "nx9ZAdcVYQjb"
      }
    },
    {
      "cell_type": "code",
      "metadata": {
        "id": "HKnfxcEFKMGQ"
      },
      "source": [
        "## New arrays\n",
        "\n",
        "## First the training images\n",
        "X_train_f = threeDToTwoD(X_train_r, len(X_train_r))\n",
        "\n",
        "## Second the validation images\n",
        "X_val_f = threeDToTwoD(X_val_r, len(X_val_r))\n",
        "\n",
        "## Third the training labels\n",
        "y_train_f = extendLabels(y_train_r, len(y_train_r))\n",
        "\n",
        "## Fourth the validation labels\n",
        "y_val_f = extendLabels(y_val_r, len(y_val_r))"
      ],
      "execution_count": null,
      "outputs": []
    },
    {
      "cell_type": "code",
      "metadata": {
        "colab": {
          "base_uri": "https://localhost:8080/"
        },
        "id": "ft1hgOAZHAOz",
        "outputId": "30b7e637-37ff-4c17-c3d6-b3495a06de0f"
      },
      "source": [
        "X_train_f.shape"
      ],
      "execution_count": null,
      "outputs": [
        {
          "output_type": "execute_result",
          "data": {
            "text/plain": [
              "(6400, 224, 224, 3)"
            ]
          },
          "metadata": {},
          "execution_count": 50
        }
      ]
    },
    {
      "cell_type": "code",
      "metadata": {
        "id": "rZgztuhdF2ks",
        "colab": {
          "base_uri": "https://localhost:8080/",
          "height": 286
        },
        "outputId": "2438f3c3-5fc1-4545-ab32-1aa4682ab427"
      },
      "source": [
        "import matplotlib.pyplot as plt\n",
        "plt.imshow(X_train_f[200,:,:,2],cmap='bone')"
      ],
      "execution_count": null,
      "outputs": [
        {
          "output_type": "execute_result",
          "data": {
            "text/plain": [
              "<matplotlib.image.AxesImage at 0x7f6ed01b55d0>"
            ]
          },
          "metadata": {},
          "execution_count": 21
        },
        {
          "output_type": "display_data",
          "data": {
            "image/png": "[encoded data removed]",
            "text/plain": [
              "<Figure size 432x288 with 1 Axes>"
            ]
          },
          "metadata": {
            "needs_background": "light"
          }
        }
      ]
    },
    {
      "cell_type": "code",
      "metadata": {
        "id": "Kop-xkmpIIcE",
        "colab": {
          "base_uri": "https://localhost:8080/",
          "height": 286
        },
        "outputId": "e701f74f-feb0-4a29-d704-c5dc2fa06bd7"
      },
      "source": [
        "plt.imshow(X_train_f[3100,:,:,0],cmap='bone')"
      ],
      "execution_count": null,
      "outputs": [
        {
          "output_type": "execute_result",
          "data": {
            "text/plain": [
              "<matplotlib.image.AxesImage at 0x7f6ed00e4710>"
            ]
          },
          "metadata": {},
          "execution_count": 22
        },
        {
          "output_type": "display_data",
          "data": {
            "image/png": "[encoded data removed]",
            "text/plain": [
              "<Figure size 432x288 with 1 Axes>"
            ]
          },
          "metadata": {
            "needs_background": "light"
          }
        }
      ]
    },
    {
      "cell_type": "markdown",
      "metadata": {
        "id": "xdMslY6dK96k"
      },
      "source": [
        "### Now the model"
      ]
    },
    {
      "cell_type": "code",
      "metadata": {
        "id": "10glJ2BtLCTr"
      },
      "source": [
        "import keras\n",
        "from keras.models import Sequential\n",
        "from keras.layers import Dense, Flatten, Conv3D, MaxPooling3D, Dropout, BatchNormalization\n",
        "import matplotlib.pyplot as plt\n",
        "from tensorflow import keras\n",
        "from tensorflow.keras import layers"
      ],
      "execution_count": null,
      "outputs": []
    },
    {
      "cell_type": "code",
      "metadata": {
        "id": "1Mb9wIJOLqeH"
      },
      "source": [
        "data_augmentation = tf.keras.Sequential(\n",
        "    [layers.RandomFlip(\"horizontal\"), layers.RandomRotation(0.1),])"
      ],
      "execution_count": null,
      "outputs": []
    },
    {
      "cell_type": "code",
      "metadata": {
        "id": "aWyVyORaLs1g",
        "colab": {
          "base_uri": "https://localhost:8080/"
        },
        "outputId": "4f0abbdd-bfb4-456c-cfce-f13ea794949e"
      },
      "source": [
        "## The model build\n",
        "def buildModel():\n",
        "\n",
        "  initial_model = tf.keras.applications.VGG19(\n",
        "      weights = 'imagenet',\n",
        "      input_shape = (224,224,3),\n",
        "      include_top = False)\n",
        "  \n",
        "  ## Freeze the pretrained model parameters\n",
        "  initial_model.trainable = False\n",
        "\n",
        "  inputs = tf.keras.Input(shape = (224,224,3))\n",
        "\n",
        "  x = data_augmentation(inputs)\n",
        "\n",
        "  scale_layer = tf.keras.layers.Rescaling(scale=1 / 127.5, offset=-1)\n",
        "  x = scale_layer(x)\n",
        "\n",
        "  x = initial_model(inputs, training = False)\n",
        "  x = tf.keras.layers.GlobalAveragePooling2D()(x)\n",
        "  outputs = tf.keras.layers.Dense(1, activation='sigmoid')(x)\n",
        "\n",
        "  model = tf.keras.Model(inputs, outputs)\n",
        "  return model\n",
        "\n",
        "model = buildModel()\n",
        "model.summary()"
      ],
      "execution_count": null,
      "outputs": [
        {
          "output_type": "stream",
          "name": "stdout",
          "text": [
            "Model: \"model\"\n",
            "_________________________________________________________________\n",
            " Layer (type)                Output Shape              Param #   \n",
            "=================================================================\n",
            " input_2 (InputLayer)        [(None, 224, 224, 3)]     0         \n",
            "                                                                 \n",
            " vgg19 (Functional)          (None, 7, 7, 512)         20024384  \n",
            "                                                                 \n",
            " global_average_pooling2d (G  (None, 512)              0         \n",
            " lobalAveragePooling2D)                                          \n",
            "                                                                 \n",
            " dense (Dense)               (None, 1)                 513       \n",
            "                                                                 \n",
            "=================================================================\n",
            "Total params: 20,024,897\n",
            "Trainable params: 513\n",
            "Non-trainable params: 20,024,384\n",
            "_________________________________________________________________\n"
          ]
        }
      ]
    },
    {
      "cell_type": "code",
      "metadata": {
        "id": "Che8qwfAL1tK"
      },
      "source": [
        "## Setting up the fit parameters\n",
        "lr_schedule = tf.keras.optimizers.schedules.ExponentialDecay(\n",
        "    0.001, decay_steps=100000, decay_rate=0.96, staircase=True\n",
        ")\n",
        "\n",
        "model.compile(loss = tf.keras.losses.BinaryCrossentropy(),\n",
        "              optimizer = tf.keras.optimizers.Adam(learning_rate=lr_schedule),\n",
        "              metrics = tf.keras.metrics.BinaryAccuracy(),\n",
        "              )\n",
        "\n",
        "## Defining checkpoints\n",
        "checkpoint_cb = tf.keras.callbacks.ModelCheckpoint(\n",
        "    \"3D_CT_classification.h5\", save_best_only=True\n",
        ")\n",
        "early_stopping_cb = tf.keras.callbacks.EarlyStopping(monitor='loss', patience=5)\n",
        "\n",
        "## How man runs\n",
        "epochs = 50"
      ],
      "execution_count": null,
      "outputs": []
    },
    {
      "cell_type": "code",
      "metadata": {
        "id": "t64xs7N1L2Yv",
        "colab": {
          "base_uri": "https://localhost:8080/"
        },
        "outputId": "cb07348d-f417-4d67-b261-ed37fa9a2d03"
      },
      "source": [
        "## Training the model\n",
        "history = model.fit(x = X_train_f,\n",
        "                    y = y_train_f,\n",
        "                    validation_data=(X_val_f, y_val_f),\n",
        "                    epochs=epochs,\n",
        "                    shuffle=True,\n",
        "                    verbose='auto',\n",
        "                    callbacks = [ checkpoint_cb , early_stopping_cb],\n",
        "                    )"
      ],
      "execution_count": null,
      "outputs": [
        {
          "output_type": "stream",
          "name": "stdout",
          "text": [
            "Epoch 1/50\n",
            "200/200 [==============================] - 23s 94ms/step - loss: 0.6969 - binary_accuracy: 0.5142 - val_loss: 0.6495 - val_binary_accuracy: 0.6842\n",
            "Epoch 2/50\n",
            "200/200 [==============================] - 18s 89ms/step - loss: 0.6848 - binary_accuracy: 0.5561 - val_loss: 0.6995 - val_binary_accuracy: 0.4992\n",
            "Epoch 3/50\n",
            "200/200 [==============================] - 18s 89ms/step - loss: 0.6773 - binary_accuracy: 0.5780 - val_loss: 0.6905 - val_binary_accuracy: 0.5354\n",
            "Epoch 4/50\n",
            "200/200 [==============================] - 18s 89ms/step - loss: 0.6703 - binary_accuracy: 0.5973 - val_loss: 0.6784 - val_binary_accuracy: 0.5847\n",
            "Epoch 5/50\n",
            "200/200 [==============================] - 18s 89ms/step - loss: 0.6645 - binary_accuracy: 0.6100 - val_loss: 0.6838 - val_binary_accuracy: 0.5559\n",
            "Epoch 6/50\n",
            "200/200 [==============================] - 18s 89ms/step - loss: 0.6595 - binary_accuracy: 0.6102 - val_loss: 0.7025 - val_binary_accuracy: 0.4992\n",
            "Epoch 7/50\n",
            "200/200 [==============================] - 18s 88ms/step - loss: 0.6563 - binary_accuracy: 0.6209 - val_loss: 0.6926 - val_binary_accuracy: 0.5337\n",
            "Epoch 8/50\n",
            "200/200 [==============================] - 18s 88ms/step - loss: 0.6509 - binary_accuracy: 0.6264 - val_loss: 0.7182 - val_binary_accuracy: 0.4449\n",
            "Epoch 9/50\n",
            "200/200 [==============================] - 18s 88ms/step - loss: 0.6469 - binary_accuracy: 0.6408 - val_loss: 0.7190 - val_binary_accuracy: 0.4655\n",
            "Epoch 10/50\n",
            "200/200 [==============================] - 18s 89ms/step - loss: 0.6431 - binary_accuracy: 0.6434 - val_loss: 0.6755 - val_binary_accuracy: 0.5641\n",
            "Epoch 11/50\n",
            "200/200 [==============================] - 18s 89ms/step - loss: 0.6416 - binary_accuracy: 0.6384 - val_loss: 0.6962 - val_binary_accuracy: 0.5280\n",
            "Epoch 12/50\n",
            "200/200 [==============================] - 18s 89ms/step - loss: 0.6373 - binary_accuracy: 0.6431 - val_loss: 0.7424 - val_binary_accuracy: 0.4145\n",
            "Epoch 13/50\n",
            "200/200 [==============================] - 18s 89ms/step - loss: 0.6349 - binary_accuracy: 0.6525 - val_loss: 0.7095 - val_binary_accuracy: 0.4910\n",
            "Epoch 14/50\n",
            "200/200 [==============================] - 18s 88ms/step - loss: 0.6314 - binary_accuracy: 0.6522 - val_loss: 0.7034 - val_binary_accuracy: 0.5025\n",
            "Epoch 15/50\n",
            "200/200 [==============================] - 18s 89ms/step - loss: 0.6287 - binary_accuracy: 0.6592 - val_loss: 0.7133 - val_binary_accuracy: 0.4893\n",
            "Epoch 16/50\n",
            "200/200 [==============================] - 18s 89ms/step - loss: 0.6261 - binary_accuracy: 0.6569 - val_loss: 0.6964 - val_binary_accuracy: 0.5280\n",
            "Epoch 17/50\n",
            "200/200 [==============================] - 18s 89ms/step - loss: 0.6239 - binary_accuracy: 0.6631 - val_loss: 0.7049 - val_binary_accuracy: 0.5123\n",
            "Epoch 18/50\n",
            "200/200 [==============================] - 18s 89ms/step - loss: 0.6220 - binary_accuracy: 0.6642 - val_loss: 0.6884 - val_binary_accuracy: 0.5493\n",
            "Epoch 19/50\n",
            "200/200 [==============================] - 18s 88ms/step - loss: 0.6193 - binary_accuracy: 0.6669 - val_loss: 0.7069 - val_binary_accuracy: 0.5074\n",
            "Epoch 20/50\n",
            "200/200 [==============================] - 18s 88ms/step - loss: 0.6169 - binary_accuracy: 0.6708 - val_loss: 0.6670 - val_binary_accuracy: 0.6053\n",
            "Epoch 21/50\n",
            "200/200 [==============================] - 18s 88ms/step - loss: 0.6155 - binary_accuracy: 0.6730 - val_loss: 0.7105 - val_binary_accuracy: 0.5041\n",
            "Epoch 22/50\n",
            "200/200 [==============================] - 18s 88ms/step - loss: 0.6138 - binary_accuracy: 0.6725 - val_loss: 0.7498 - val_binary_accuracy: 0.4326\n",
            "Epoch 23/50\n",
            "200/200 [==============================] - 18s 89ms/step - loss: 0.6117 - binary_accuracy: 0.6778 - val_loss: 0.6986 - val_binary_accuracy: 0.5296\n",
            "Epoch 24/50\n",
            "200/200 [==============================] - 18s 89ms/step - loss: 0.6085 - binary_accuracy: 0.6798 - val_loss: 0.7089 - val_binary_accuracy: 0.5189\n",
            "Epoch 25/50\n",
            "200/200 [==============================] - 18s 89ms/step - loss: 0.6080 - binary_accuracy: 0.6752 - val_loss: 0.6688 - val_binary_accuracy: 0.5921\n",
            "Epoch 26/50\n",
            "200/200 [==============================] - 18s 89ms/step - loss: 0.6056 - binary_accuracy: 0.6811 - val_loss: 0.7084 - val_binary_accuracy: 0.5214\n",
            "Epoch 27/50\n",
            "200/200 [==============================] - 18s 89ms/step - loss: 0.6044 - binary_accuracy: 0.6812 - val_loss: 0.6935 - val_binary_accuracy: 0.5469\n",
            "Epoch 28/50\n",
            "200/200 [==============================] - 18s 89ms/step - loss: 0.6025 - binary_accuracy: 0.6819 - val_loss: 0.7189 - val_binary_accuracy: 0.5074\n",
            "Epoch 29/50\n",
            "200/200 [==============================] - 18s 88ms/step - loss: 0.6020 - binary_accuracy: 0.6841 - val_loss: 0.6864 - val_binary_accuracy: 0.5691\n",
            "Epoch 30/50\n",
            "200/200 [==============================] - 18s 88ms/step - loss: 0.5994 - binary_accuracy: 0.6845 - val_loss: 0.7156 - val_binary_accuracy: 0.5123\n",
            "Epoch 31/50\n",
            "200/200 [==============================] - 18s 88ms/step - loss: 0.5979 - binary_accuracy: 0.6847 - val_loss: 0.7145 - val_binary_accuracy: 0.5156\n",
            "Epoch 32/50\n",
            "200/200 [==============================] - 18s 88ms/step - loss: 0.5962 - binary_accuracy: 0.6911 - val_loss: 0.6781 - val_binary_accuracy: 0.5831\n",
            "Epoch 33/50\n",
            "200/200 [==============================] - 18s 88ms/step - loss: 0.5947 - binary_accuracy: 0.6911 - val_loss: 0.7238 - val_binary_accuracy: 0.5049\n",
            "Epoch 34/50\n",
            "200/200 [==============================] - 18s 88ms/step - loss: 0.5933 - binary_accuracy: 0.6888 - val_loss: 0.7110 - val_binary_accuracy: 0.5263\n",
            "Epoch 35/50\n",
            "200/200 [==============================] - 18s 88ms/step - loss: 0.5920 - binary_accuracy: 0.6906 - val_loss: 0.6660 - val_binary_accuracy: 0.5872\n",
            "Epoch 36/50\n",
            "200/200 [==============================] - 18s 88ms/step - loss: 0.5914 - binary_accuracy: 0.6958 - val_loss: 0.6955 - val_binary_accuracy: 0.5510\n",
            "Epoch 37/50\n",
            "200/200 [==============================] - 18s 89ms/step - loss: 0.5891 - binary_accuracy: 0.6928 - val_loss: 0.6603 - val_binary_accuracy: 0.5970\n",
            "Epoch 38/50\n",
            "200/200 [==============================] - 18s 89ms/step - loss: 0.5891 - binary_accuracy: 0.6908 - val_loss: 0.6995 - val_binary_accuracy: 0.5493\n",
            "Epoch 39/50\n",
            "200/200 [==============================] - 18s 89ms/step - loss: 0.5871 - binary_accuracy: 0.6978 - val_loss: 0.6771 - val_binary_accuracy: 0.5822\n",
            "Epoch 40/50\n",
            "200/200 [==============================] - 18s 89ms/step - loss: 0.5859 - binary_accuracy: 0.6950 - val_loss: 0.7241 - val_binary_accuracy: 0.5140\n",
            "Epoch 41/50\n",
            "200/200 [==============================] - 18s 89ms/step - loss: 0.5849 - binary_accuracy: 0.6983 - val_loss: 0.6751 - val_binary_accuracy: 0.5806\n",
            "Epoch 42/50\n",
            "200/200 [==============================] - 18s 89ms/step - loss: 0.5843 - binary_accuracy: 0.6939 - val_loss: 0.6782 - val_binary_accuracy: 0.5773\n",
            "Epoch 43/50\n",
            "200/200 [==============================] - 18s 88ms/step - loss: 0.5826 - binary_accuracy: 0.7014 - val_loss: 0.7017 - val_binary_accuracy: 0.5436\n",
            "Epoch 44/50\n",
            "200/200 [==============================] - 18s 88ms/step - loss: 0.5823 - binary_accuracy: 0.6989 - val_loss: 0.7345 - val_binary_accuracy: 0.4992\n",
            "Epoch 45/50\n",
            "200/200 [==============================] - 18s 88ms/step - loss: 0.5799 - binary_accuracy: 0.7042 - val_loss: 0.7402 - val_binary_accuracy: 0.4885\n",
            "Epoch 46/50\n",
            "200/200 [==============================] - 18s 88ms/step - loss: 0.5794 - binary_accuracy: 0.7006 - val_loss: 0.6905 - val_binary_accuracy: 0.5600\n",
            "Epoch 47/50\n",
            "200/200 [==============================] - 18s 88ms/step - loss: 0.5784 - binary_accuracy: 0.7009 - val_loss: 0.6932 - val_binary_accuracy: 0.5633\n",
            "Epoch 48/50\n",
            "200/200 [==============================] - 18s 88ms/step - loss: 0.5774 - binary_accuracy: 0.7028 - val_loss: 0.7198 - val_binary_accuracy: 0.5255\n",
            "Epoch 49/50\n",
            "200/200 [==============================] - 18s 88ms/step - loss: 0.5761 - binary_accuracy: 0.7052 - val_loss: 0.7064 - val_binary_accuracy: 0.5428\n",
            "Epoch 50/50\n",
            "200/200 [==============================] - 18s 88ms/step - loss: 0.5755 - binary_accuracy: 0.7033 - val_loss: 0.7199 - val_binary_accuracy: 0.5280\n"
          ]
        }
      ]
    },
    {
      "cell_type": "code",
      "metadata": {
        "id": "1PMddCgeapxc",
        "colab": {
          "base_uri": "https://localhost:8080/"
        },
        "outputId": "df6fa1af-2965-418b-9a7a-1b37d90f7678"
      },
      "source": [
        "# Calling `save('my_model')` creates a SavedModel folder `my_model`.\n",
        "model.save(\"/content/drive/MyDrive/Colab Notebooks/MRI_model_v2\")"
      ],
      "execution_count": null,
      "outputs": [
        {
          "output_type": "stream",
          "name": "stdout",
          "text": [
            "INFO:tensorflow:Assets written to: /content/drive/MyDrive/Colab Notebooks/MRI_model_v2/assets\n"
          ]
        }
      ]
    },
    {
      "cell_type": "markdown",
      "metadata": {
        "id": "FnnHN2hNv1IW"
      },
      "source": [
        "## Loading the model and predicting here"
      ]
    },
    {
      "cell_type": "code",
      "metadata": {
        "id": "DLsMkxc-5LW8"
      },
      "source": [
        "from tensorflow import keras\n",
        "reloaded_model = keras.models.load_model(\"/content/drive/MyDrive/Colab Notebooks/MRI_model_v2\")"
      ],
      "execution_count": null,
      "outputs": []
    },
    {
      "cell_type": "markdown",
      "metadata": {
        "id": "nm5KZETuwQQg"
      },
      "source": [
        "## Here we will take a look at a visualization of the model."
      ]
    },
    {
      "cell_type": "code",
      "metadata": {
        "id": "fb6LQbNSwVZ4",
        "colab": {
          "base_uri": "https://localhost:8080/"
        },
        "outputId": "702504cd-8267-4f8e-db06-3ff1ae73f2c5"
      },
      "source": [
        "!pip3 install visualkeras"
      ],
      "execution_count": null,
      "outputs": [
        {
          "output_type": "stream",
          "name": "stdout",
          "text": [
            "Collecting visualkeras\n",
            "  Downloading visualkeras-0.0.2-py3-none-any.whl (12 kB)\n",
            "Requirement already satisfied: pillow>=6.2.0 in /usr/local/lib/python3.7/dist-packages (from visualkeras) (7.1.2)\n",
            "Collecting aggdraw>=1.3.11\n",
            "  Downloading aggdraw-1.3.12-cp37-cp37m-manylinux2010_x86_64.whl (795 kB)\n",
            "\u001b[K     |████████████████████████████████| 795 kB 4.1 MB/s \n",
            "\u001b[?25hRequirement already satisfied: numpy>=1.18.1 in /usr/local/lib/python3.7/dist-packages (from visualkeras) (1.19.5)\n",
            "Installing collected packages: aggdraw, visualkeras\n",
            "Successfully installed aggdraw-1.3.12 visualkeras-0.0.2\n"
          ]
        }
      ]
    },
    {
      "cell_type": "code",
      "metadata": {
        "id": "ATePFonI5MBF",
        "colab": {
          "base_uri": "https://localhost:8080/",
          "height": 1000
        },
        "outputId": "4695b43e-47c3-4e57-8cf5-db585b82150d"
      },
      "source": [
        "## Using visualkeras\n",
        "import visualkeras\n",
        "visualkeras.layered_view(reloaded_model).show()\n",
        "visualkeras.layered_view(reloaded_model)"
      ],
      "execution_count": null,
      "outputs": [
        {
          "output_type": "execute_result",
          "data": {
            "image/png": "[encoded data removed]",
            "text/plain": [
              "<PIL.Image.Image image mode=RGBA size=346x1195 at 0x7F6E4C5A4850>"
            ]
          },
          "metadata": {},
          "execution_count": 32
        }
      ]
    },
    {
      "cell_type": "code",
      "metadata": {
        "id": "NaAwp6sT7Jl8",
        "colab": {
          "base_uri": "https://localhost:8080/",
          "height": 422
        },
        "outputId": "452d2cc7-1f59-425a-afdd-8c4679ae5dd1"
      },
      "source": [
        "## Using the keras visualizer\n",
        "tf.keras.utils.plot_model(reloaded_model, show_shapes=True)"
      ],
      "execution_count": null,
      "outputs": [
        {
          "output_type": "execute_result",
          "data": {
            "image/png": "[encoded data removed]",
            "text/plain": [
              "<IPython.core.display.Image object>"
            ]
          },
          "metadata": {},
          "execution_count": 33
        }
      ]
    },
    {
      "cell_type": "code",
      "metadata": {
        "id": "4dCwhyCva3ul",
        "colab": {
          "base_uri": "https://localhost:8080/"
        },
        "outputId": "93f55ddc-6c8c-4a13-ff8c-c8bc60a8f20b"
      },
      "source": [
        "print(history.history.keys())"
      ],
      "execution_count": null,
      "outputs": [
        {
          "output_type": "stream",
          "name": "stdout",
          "text": [
            "dict_keys(['loss', 'binary_accuracy', 'val_loss', 'val_binary_accuracy'])\n"
          ]
        }
      ]
    },
    {
      "cell_type": "code",
      "metadata": {
        "id": "P-p1JWT3SpAp",
        "colab": {
          "base_uri": "https://localhost:8080/",
          "height": 295
        },
        "outputId": "d3b07473-1929-4ae7-aeb1-d75168333f78"
      },
      "source": [
        "## Showing the accuracy as a graph for easier viewing\n",
        "import matplotlib.pyplot as plt\n",
        "\n",
        "plt.plot(history.history['binary_accuracy'])\n",
        "plt.plot(history.history['val_binary_accuracy'])\n",
        "plt.title('model accuracy')\n",
        "plt.ylabel('binary_accuracy')\n",
        "plt.xlabel('epoch')\n",
        "plt.legend(['train', 'val'], loc='upper left')\n",
        "plt.show()"
      ],
      "execution_count": null,
      "outputs": [
        {
          "output_type": "display_data",
          "data": {
            "image/png": "[encoded data removed]",
            "text/plain": [
              "<Figure size 432x288 with 1 Axes>"
            ]
          },
          "metadata": {
            "needs_background": "light"
          }
        }
      ]
    },
    {
      "cell_type": "code",
      "metadata": {
        "id": "x7LGmGMpTQVo",
        "colab": {
          "base_uri": "https://localhost:8080/",
          "height": 295
        },
        "outputId": "840a7e9c-971c-4808-9375-f7bc49514f47"
      },
      "source": [
        "plt.plot(history.history['loss'])\n",
        "plt.plot(history.history['val_loss'])\n",
        "plt.title('model loss')\n",
        "plt.ylabel('loss')\n",
        "plt.xlabel('epoch')\n",
        "plt.legend(['train', 'val'], loc='upper left')\n",
        "plt.show()"
      ],
      "execution_count": null,
      "outputs": [
        {
          "output_type": "display_data",
          "data": {
            "image/png": "[encoded data removed]",
            "text/plain": [
              "<Figure size 432x288 with 1 Axes>"
            ]
          },
          "metadata": {
            "needs_background": "light"
          }
        }
      ]
    },
    {
      "cell_type": "markdown",
      "metadata": {
        "id": "Eeneeg3PNDRA"
      },
      "source": [
        "## Now to predict some and collec the stats"
      ]
    },
    {
      "cell_type": "code",
      "metadata": {
        "id": "_WneifiP6Hy7",
        "colab": {
          "base_uri": "https://localhost:8080/"
        },
        "outputId": "7603b96e-c925-4209-d162-979161db3961"
      },
      "source": [
        "## Alzheimers Files\n",
        "path, dirs, files = next(os.walk(toPredict_path_output + '/val/AD'))\n",
        "file_count = len(files)\n",
        "print(file_count)\n",
        "\n",
        "## Normal Control Files\n",
        "path, dirs, files = next(os.walk(toPredict_path_output + '/val/NC'))\n",
        "file_count = len(files)\n",
        "print(file_count)"
      ],
      "execution_count": null,
      "outputs": [
        {
          "output_type": "stream",
          "name": "stdout",
          "text": [
            "14\n",
            "12\n"
          ]
        }
      ]
    },
    {
      "cell_type": "code",
      "metadata": {
        "id": "LqUeOfh6Nbvt"
      },
      "source": [
        "## Setting up the filepaths for each file in NC\n",
        "predict_normal_scan_paths = [\n",
        "    os.path.join(os.getcwd(), toPredict_path_output + '/val/NC', x)\n",
        "    for x in os.listdir(toPredict_path_output + '/val/NC')\n",
        "]\n",
        "\n",
        "## Setting up the filepaths for each file in class 2\n",
        "predict_alzheimer_scan_paths = [\n",
        "    os.path.join(os.getcwd(), toPredict_path_output + '/val/AD', x)\n",
        "    for x in os.listdir(toPredict_path_output + '/val/AD')\n",
        "]"
      ],
      "execution_count": null,
      "outputs": []
    },
    {
      "cell_type": "code",
      "metadata": {
        "id": "sm4g6eKWN1pj",
        "colab": {
          "base_uri": "https://localhost:8080/"
        },
        "outputId": "9375d1c1-2959-46e1-8079-e0fb0ca9eecb"
      },
      "source": [
        "## Normal Subject files into numpy arrays\n",
        "predict_normal_volumes = np.array([processVolume(path) for path in predict_normal_scan_paths])\n",
        "predict_normal_volume_labels = np.array([0 for _ in range(len(predict_normal_volumes))])\n",
        "\n",
        "## Alzheimer's Subject files into numpy arrays\n",
        "predict_alzheimer_volumes = np.array([processVolume(path) for path in predict_alzheimer_scan_paths])\n",
        "predict_alzheimer_volume_labels = np.array([1 for _ in range(len(predict_alzheimer_volumes))])\n",
        "\n",
        "print(\"MRI scans with normal neuro presentation: \" + str(len(predict_normal_scan_paths)))\n",
        "print(\"MRI scans with abnormal alzheimner's presentation: \" + str(len(predict_alzheimer_scan_paths)))"
      ],
      "execution_count": null,
      "outputs": [
        {
          "output_type": "stream",
          "name": "stdout",
          "text": [
            "MRI scans with normal neuro presentation: 3\n",
            "MRI scans with abnormal alzheimner's presentation: 4\n"
          ]
        }
      ]
    },
    {
      "cell_type": "code",
      "metadata": {
        "id": "VEk5nS_kOZ6j"
      },
      "source": [
        "## Setting up the X and Y for predictions\n",
        "X_predict = np.concatenate((predict_normal_volumes, predict_alzheimer_volumes), axis=0)\n",
        "y_predict = np.concatenate((predict_normal_volume_labels, predict_alzheimer_volume_labels), axis=0)"
      ],
      "execution_count": null,
      "outputs": []
    },
    {
      "cell_type": "code",
      "metadata": {
        "id": "3sBoe3FsyWVx",
        "colab": {
          "base_uri": "https://localhost:8080/"
        },
        "outputId": "93562cd4-9789-4739-a441-9b0491dde366"
      },
      "source": [
        "## Applying the same RGB fix\n",
        "X_predict_r, y_predict_r = train_preprocess(X_predict, y_predict)\n",
        "print(X_predict_r.shape)\n",
        "print(y_predict_r.shape)"
      ],
      "execution_count": null,
      "outputs": [
        {
          "output_type": "stream",
          "name": "stdout",
          "text": [
            "(7, 224, 224, 3, 64)\n",
            "(7,)\n"
          ]
        }
      ]
    },
    {
      "cell_type": "code",
      "source": [
        "len(X_predict)"
      ],
      "metadata": {
        "colab": {
          "base_uri": "https://localhost:8080/"
        },
        "id": "Euv2AFCzrQZp",
        "outputId": "ef57297f-de4a-47cf-a2ce-d0a4bdc19c17"
      },
      "execution_count": null,
      "outputs": [
        {
          "output_type": "execute_result",
          "data": {
            "text/plain": [
              "7"
            ]
          },
          "metadata": {},
          "execution_count": 42
        }
      ]
    },
    {
      "cell_type": "code",
      "metadata": {
        "id": "LiHYktsgzd5S"
      },
      "source": [
        "## Second the validation images\n",
        "X_predict_f = threeDToTwoD(X_predict_r, len(X_predict))\n",
        "\n",
        "## Third the training labels\n",
        "y_predict_f = extendLabels(y_predict_r, len(y_predict))"
      ],
      "execution_count": null,
      "outputs": []
    },
    {
      "cell_type": "code",
      "metadata": {
        "id": "jlfnQ6Gc1fjd",
        "colab": {
          "base_uri": "https://localhost:8080/"
        },
        "outputId": "c92127b1-4db7-4e8a-f0a8-17db184b1134"
      },
      "source": [
        "## Doing the predictions and getting the metrics\n",
        "prediction = reloaded_model.predict(X_predict_f)\n",
        "\n",
        "loss, metrics = reloaded_model.evaluate(X_predict_f, y_predict_f)"
      ],
      "execution_count": null,
      "outputs": [
        {
          "output_type": "stream",
          "name": "stdout",
          "text": [
            "14/14 [==============================] - 1s 75ms/step - loss: 0.6183 - binary_accuracy: 0.6830\n"
          ]
        }
      ]
    },
    {
      "cell_type": "code",
      "metadata": {
        "id": "2LiIUS0O-OBT",
        "colab": {
          "base_uri": "https://localhost:8080/"
        },
        "outputId": "6debe67a-a558-4971-cf15-f07c6213c4f4"
      },
      "source": [
        "!pip3 install -U scikit-learn\n"
      ],
      "execution_count": null,
      "outputs": [
        {
          "output_type": "stream",
          "name": "stdout",
          "text": [
            "Requirement already satisfied: scikit-learn in /usr/local/lib/python3.7/dist-packages (1.0.1)\n",
            "Requirement already satisfied: scipy>=1.1.0 in /usr/local/lib/python3.7/dist-packages (from scikit-learn) (1.4.1)\n",
            "Requirement already satisfied: joblib>=0.11 in /usr/local/lib/python3.7/dist-packages (from scikit-learn) (1.1.0)\n",
            "Requirement already satisfied: threadpoolctl>=2.0.0 in /usr/local/lib/python3.7/dist-packages (from scikit-learn) (3.0.0)\n",
            "Requirement already satisfied: numpy>=1.14.6 in /usr/local/lib/python3.7/dist-packages (from scikit-learn) (1.19.5)\n"
          ]
        }
      ]
    },
    {
      "cell_type": "code",
      "metadata": {
        "id": "tQ_5icbD8uI-"
      },
      "source": [
        "from sklearn.metrics import roc_curve\n",
        "fpr, tpr, thresholds = roc_curve(y_predict_f, prediction)\n"
      ],
      "execution_count": null,
      "outputs": []
    },
    {
      "cell_type": "code",
      "metadata": {
        "id": "Jy4RDelo-csb",
        "colab": {
          "base_uri": "https://localhost:8080/",
          "height": 279
        },
        "outputId": "36d98b3f-0cf0-4778-b79f-90d3f2cb934d"
      },
      "source": [
        "from matplotlib import pyplot\n",
        "\n",
        "pyplot.plot(fpr, tpr, linestyle='--', label='Normal')\n",
        "pyplot.xlabel('False Positive Rate')\n",
        "pyplot.ylabel('True Positive Rate')\n",
        "pyplot.legend()\n",
        "pyplot.show()"
      ],
      "execution_count": null,
      "outputs": [
        {
          "output_type": "display_data",
          "data": {
            "image/png": "[encoded data removed]",
            "text/plain": [
              "<Figure size 432x288 with 1 Axes>"
            ]
          },
          "metadata": {
            "needs_background": "light"
          }
        }
      ]
    },
    {
      "cell_type": "code",
      "metadata": {
        "id": "r4JnN9VD4BbW",
        "colab": {
          "base_uri": "https://localhost:8080/"
        },
        "outputId": "c5f2b522-97fa-4ab9-a33f-cf3abe4071f4"
      },
      "source": [
        "## Displaying Predictions\n",
        "print(prediction)\n",
        "print(loss)\n",
        "print(metrics)"
      ],
      "execution_count": null,
      "outputs": [
        {
          "output_type": "stream",
          "name": "stdout",
          "text": [
            "[[0.37056273]\n",
            " [0.36209065]\n",
            " [0.36373582]\n",
            " [0.3591691 ]\n",
            " [0.32743737]\n",
            " [0.3153154 ]\n",
            " [0.22790857]\n",
            " [0.22882757]\n",
            " [0.23875669]\n",
            " [0.47966248]\n",
            " [0.5065261 ]\n",
            " [0.41414425]\n",
            " [0.33733577]\n",
            " [0.2680812 ]\n",
            " [0.5337665 ]\n",
            " [0.40540594]\n",
            " [0.27289653]\n",
            " [0.24413086]\n",
            " [0.3148243 ]\n",
            " [0.24050374]\n",
            " [0.41146457]\n",
            " [0.37796623]\n",
            " [0.37893057]\n",
            " [0.35736063]\n",
            " [0.3179553 ]\n",
            " [0.35966638]\n",
            " [0.38528943]\n",
            " [0.54528797]\n",
            " [0.46764648]\n",
            " [0.24211437]\n",
            " [0.39300308]\n",
            " [0.29788822]\n",
            " [0.30140752]\n",
            " [0.2387454 ]\n",
            " [0.24403368]\n",
            " [0.3999144 ]\n",
            " [0.39556172]\n",
            " [0.3019984 ]\n",
            " [0.24943076]\n",
            " [0.24629503]\n",
            " [0.23598346]\n",
            " [0.28871274]\n",
            " [0.29427475]\n",
            " [0.27978587]\n",
            " [0.31519753]\n",
            " [0.41122368]\n",
            " [0.4221357 ]\n",
            " [0.4375811 ]\n",
            " [0.40912974]\n",
            " [0.56244195]\n",
            " [0.3734306 ]\n",
            " [0.2939501 ]\n",
            " [0.23684724]\n",
            " [0.23048939]\n",
            " [0.19232067]\n",
            " [0.22070841]\n",
            " [0.3135193 ]\n",
            " [0.5355442 ]\n",
            " [0.5061046 ]\n",
            " [0.3546249 ]\n",
            " [0.35396793]\n",
            " [0.33935395]\n",
            " [0.34247166]\n",
            " [0.39479834]\n",
            " [0.4280455 ]\n",
            " [0.43919578]\n",
            " [0.43797588]\n",
            " [0.45225543]\n",
            " [0.4360229 ]\n",
            " [0.47027493]\n",
            " [0.28236118]\n",
            " [0.29173172]\n",
            " [0.36221156]\n",
            " [0.45553735]\n",
            " [0.5356742 ]\n",
            " [0.33148497]\n",
            " [0.24763243]\n",
            " [0.2420535 ]\n",
            " [0.2534379 ]\n",
            " [0.25600228]\n",
            " [0.23900437]\n",
            " [0.24867508]\n",
            " [0.15876348]\n",
            " [0.16561598]\n",
            " [0.1871033 ]\n",
            " [0.28381917]\n",
            " [0.2044732 ]\n",
            " [0.37376833]\n",
            " [0.31944808]\n",
            " [0.4063825 ]\n",
            " [0.3833446 ]\n",
            " [0.4690065 ]\n",
            " [0.5448654 ]\n",
            " [0.46586218]\n",
            " [0.32830527]\n",
            " [0.40197504]\n",
            " [0.45429516]\n",
            " [0.342876  ]\n",
            " [0.38932335]\n",
            " [0.33603618]\n",
            " [0.4056643 ]\n",
            " [0.46545017]\n",
            " [0.3931749 ]\n",
            " [0.30347294]\n",
            " [0.2329363 ]\n",
            " [0.20653477]\n",
            " [0.13509719]\n",
            " [0.20360187]\n",
            " [0.3687546 ]\n",
            " [0.34929952]\n",
            " [0.28210807]\n",
            " [0.25551048]\n",
            " [0.30775714]\n",
            " [0.30217117]\n",
            " [0.23971534]\n",
            " [0.28260595]\n",
            " [0.34786314]\n",
            " [0.38116384]\n",
            " [0.37536246]\n",
            " [0.352876  ]\n",
            " [0.5250082 ]\n",
            " [0.54666555]\n",
            " [0.39339238]\n",
            " [0.43362597]\n",
            " [0.40409744]\n",
            " [0.42471746]\n",
            " [0.4514093 ]\n",
            " [0.4382774 ]\n",
            " [0.4637591 ]\n",
            " [0.49535283]\n",
            " [0.51950014]\n",
            " [0.5397497 ]\n",
            " [0.65307105]\n",
            " [0.42836764]\n",
            " [0.27155432]\n",
            " [0.2502091 ]\n",
            " [0.3708474 ]\n",
            " [0.40761313]\n",
            " [0.27121153]\n",
            " [0.24979927]\n",
            " [0.34398457]\n",
            " [0.2273939 ]\n",
            " [0.32782882]\n",
            " [0.4250587 ]\n",
            " [0.306294  ]\n",
            " [0.1700267 ]\n",
            " [0.2326734 ]\n",
            " [0.32868332]\n",
            " [0.38165995]\n",
            " [0.34931907]\n",
            " [0.34860438]\n",
            " [0.30631924]\n",
            " [0.37038642]\n",
            " [0.39664948]\n",
            " [0.34900942]\n",
            " [0.2529577 ]\n",
            " [0.21784873]\n",
            " [0.19489479]\n",
            " [0.38121122]\n",
            " [0.39287284]\n",
            " [0.38110444]\n",
            " [0.23889302]\n",
            " [0.46754077]\n",
            " [0.34370813]\n",
            " [0.4082243 ]\n",
            " [0.34058544]\n",
            " [0.26923698]\n",
            " [0.29497436]\n",
            " [0.46499345]\n",
            " [0.48000392]\n",
            " [0.47971553]\n",
            " [0.49224183]\n",
            " [0.4916768 ]\n",
            " [0.42637572]\n",
            " [0.41896585]\n",
            " [0.4253984 ]\n",
            " [0.5455801 ]\n",
            " [0.5840718 ]\n",
            " [0.595813  ]\n",
            " [0.5155078 ]\n",
            " [0.4537417 ]\n",
            " [0.49845323]\n",
            " [0.36777133]\n",
            " [0.43853638]\n",
            " [0.4158397 ]\n",
            " [0.3118846 ]\n",
            " [0.41484028]\n",
            " [0.690445  ]\n",
            " [0.560201  ]\n",
            " [0.57160276]\n",
            " [0.52199787]\n",
            " [0.5155134 ]\n",
            " [0.5265989 ]\n",
            " [0.5219388 ]\n",
            " [0.50811756]\n",
            " [0.5649818 ]\n",
            " [0.47465664]\n",
            " [0.398128  ]\n",
            " [0.25269705]\n",
            " [0.2781361 ]\n",
            " [0.28697973]\n",
            " [0.4680993 ]\n",
            " [0.518743  ]\n",
            " [0.5738242 ]\n",
            " [0.6731539 ]\n",
            " [0.5556446 ]\n",
            " [0.576111  ]\n",
            " [0.69998676]\n",
            " [0.7877312 ]\n",
            " [0.74793386]\n",
            " [0.58313215]\n",
            " [0.5788342 ]\n",
            " [0.62344104]\n",
            " [0.6066323 ]\n",
            " [0.6148802 ]\n",
            " [0.5722536 ]\n",
            " [0.547616  ]\n",
            " [0.7888215 ]\n",
            " [0.7710267 ]\n",
            " [0.7833386 ]\n",
            " [0.75502646]\n",
            " [0.48551446]\n",
            " [0.5726972 ]\n",
            " [0.6519819 ]\n",
            " [0.68122196]\n",
            " [0.670616  ]\n",
            " [0.7329834 ]\n",
            " [0.67872095]\n",
            " [0.63969606]\n",
            " [0.585908  ]\n",
            " [0.68346083]\n",
            " [0.69849074]\n",
            " [0.7037129 ]\n",
            " [0.7301186 ]\n",
            " [0.7175801 ]\n",
            " [0.5828089 ]\n",
            " [0.56431943]\n",
            " [0.48866484]\n",
            " [0.5671828 ]\n",
            " [0.6046639 ]\n",
            " [0.44730568]\n",
            " [0.5736411 ]\n",
            " [0.48620537]\n",
            " [0.46393636]\n",
            " [0.49218428]\n",
            " [0.57487816]\n",
            " [0.52078974]\n",
            " [0.5150868 ]\n",
            " [0.3272244 ]\n",
            " [0.4934342 ]\n",
            " [0.6016623 ]\n",
            " [0.63554865]\n",
            " [0.5745889 ]\n",
            " [0.52992743]\n",
            " [0.47154987]\n",
            " [0.41380423]\n",
            " [0.43613344]\n",
            " [0.44278315]\n",
            " [0.4408303 ]\n",
            " [0.45512947]\n",
            " [0.5297773 ]\n",
            " [0.47626424]\n",
            " [0.5645942 ]\n",
            " [0.5880938 ]\n",
            " [0.72129345]\n",
            " [0.74012345]\n",
            " [0.72182673]\n",
            " [0.7134169 ]\n",
            " [0.6831881 ]\n",
            " [0.6542405 ]\n",
            " [0.5448402 ]\n",
            " [0.51938057]\n",
            " [0.53163797]\n",
            " [0.52302873]\n",
            " [0.58257455]\n",
            " [0.6324997 ]\n",
            " [0.50866306]\n",
            " [0.45808688]\n",
            " [0.45163286]\n",
            " [0.4247365 ]\n",
            " [0.41552517]\n",
            " [0.4458985 ]\n",
            " [0.46687555]\n",
            " [0.40191787]\n",
            " [0.40984622]\n",
            " [0.3398484 ]\n",
            " [0.326843  ]\n",
            " [0.5383575 ]\n",
            " [0.5908084 ]\n",
            " [0.3938091 ]\n",
            " [0.50064915]\n",
            " [0.5978022 ]\n",
            " [0.4331084 ]\n",
            " [0.49496925]\n",
            " [0.5132015 ]\n",
            " [0.52052814]\n",
            " [0.49925035]\n",
            " [0.59356076]\n",
            " [0.68347156]\n",
            " [0.5816938 ]\n",
            " [0.56295437]\n",
            " [0.5357955 ]\n",
            " [0.68623793]\n",
            " [0.7058766 ]\n",
            " [0.7057837 ]\n",
            " [0.7144463 ]\n",
            " [0.6980102 ]\n",
            " [0.78289264]\n",
            " [0.7828511 ]\n",
            " [0.811217  ]\n",
            " [0.8601462 ]\n",
            " [0.7916312 ]\n",
            " [0.69962627]\n",
            " [0.5963829 ]\n",
            " [0.53221345]\n",
            " [0.54513544]\n",
            " [0.5168239 ]\n",
            " [0.467962  ]\n",
            " [0.48605037]\n",
            " [0.4747113 ]\n",
            " [0.36999246]\n",
            " [0.3864034 ]\n",
            " [0.41240597]\n",
            " [0.46444717]\n",
            " [0.4882524 ]\n",
            " [0.51531076]\n",
            " [0.47237623]\n",
            " [0.31831673]\n",
            " [0.6101643 ]\n",
            " [0.5382344 ]\n",
            " [0.676231  ]\n",
            " [0.66635686]\n",
            " [0.6314656 ]\n",
            " [0.65333986]\n",
            " [0.655665  ]\n",
            " [0.5435673 ]\n",
            " [0.5349109 ]\n",
            " [0.45870245]\n",
            " [0.52674234]\n",
            " [0.47017244]\n",
            " [0.51260006]\n",
            " [0.41409835]\n",
            " [0.42375997]\n",
            " [0.604641  ]\n",
            " [0.5396796 ]\n",
            " [0.5938768 ]\n",
            " [0.58869505]\n",
            " [0.5874115 ]\n",
            " [0.31269667]\n",
            " [0.34108678]\n",
            " [0.4623899 ]\n",
            " [0.33469093]\n",
            " [0.2782646 ]\n",
            " [0.41614914]\n",
            " [0.35082144]\n",
            " [0.5148259 ]\n",
            " [0.6530802 ]\n",
            " [0.576635  ]\n",
            " [0.55142945]\n",
            " [0.5191816 ]\n",
            " [0.49689245]\n",
            " [0.38679504]\n",
            " [0.31341544]\n",
            " [0.4944617 ]\n",
            " [0.4345431 ]\n",
            " [0.47762027]\n",
            " [0.60824734]\n",
            " [0.5140802 ]\n",
            " [0.59184194]\n",
            " [0.6091294 ]\n",
            " [0.4808081 ]\n",
            " [0.5074586 ]\n",
            " [0.47879165]\n",
            " [0.4389583 ]\n",
            " [0.49391448]\n",
            " [0.5173724 ]\n",
            " [0.49430016]\n",
            " [0.478252  ]\n",
            " [0.58140785]\n",
            " [0.5622197 ]\n",
            " [0.52668124]\n",
            " [0.51543665]\n",
            " [0.526831  ]\n",
            " [0.51230395]\n",
            " [0.3661284 ]\n",
            " [0.37026715]\n",
            " [0.4005921 ]\n",
            " [0.4300916 ]\n",
            " [0.5317861 ]\n",
            " [0.5407726 ]\n",
            " [0.64126766]\n",
            " [0.53271365]\n",
            " [0.41942167]\n",
            " [0.4026027 ]\n",
            " [0.51266325]\n",
            " [0.50069547]\n",
            " [0.2775525 ]\n",
            " [0.2494808 ]\n",
            " [0.45192227]\n",
            " [0.44368553]\n",
            " [0.3529948 ]\n",
            " [0.29833692]\n",
            " [0.3310901 ]\n",
            " [0.25061515]\n",
            " [0.20354351]\n",
            " [0.13406707]\n",
            " [0.18199372]\n",
            " [0.31556663]\n",
            " [0.30664346]\n",
            " [0.26680547]\n",
            " [0.28736097]\n",
            " [0.26956502]\n",
            " [0.31477755]\n",
            " [0.32324347]\n",
            " [0.31073308]\n",
            " [0.40907818]\n",
            " [0.465484  ]\n",
            " [0.34854165]\n",
            " [0.4014328 ]\n",
            " [0.34595707]\n",
            " [0.37258783]\n",
            " [0.41476798]\n",
            " [0.26380494]\n",
            " [0.3501807 ]\n",
            " [0.27004647]\n",
            " [0.28975224]\n",
            " [0.280781  ]\n",
            " [0.16428055]\n",
            " [0.23867051]\n",
            " [0.41339222]\n",
            " [0.4433937 ]\n",
            " [0.38741103]\n",
            " [0.2743663 ]\n",
            " [0.23226613]\n",
            " [0.23611419]\n",
            " [0.36428544]\n",
            " [0.3625092 ]\n",
            " [0.5015054 ]\n",
            " [0.43268943]\n",
            " [0.36510405]\n",
            " [0.5273672 ]\n",
            " [0.6742693 ]\n",
            " [0.6071876 ]\n",
            " [0.5633765 ]\n",
            " [0.54106945]\n",
            " [0.41678944]\n",
            " [0.40739596]\n",
            " [0.42793652]]\n",
            "0.6183131337165833\n",
            "0.6830357313156128\n"
          ]
        }
      ]
    },
    {
      "cell_type": "code",
      "metadata": {
        "id": "7FlMOXvK65ju"
      },
      "source": [
        ""
      ],
      "execution_count": null,
      "outputs": []
    }
  ]
}