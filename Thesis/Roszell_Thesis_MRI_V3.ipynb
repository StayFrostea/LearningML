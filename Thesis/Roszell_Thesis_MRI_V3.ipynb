{
  "nbformat": 4,
  "nbformat_minor": 0,
  "metadata": {
    "colab": {
      "name": "Roszell_Thesis_MRI_V3",
      "provenance": [],
      "collapsed_sections": [],
      "machine_shape": "hm"
    },
    "kernelspec": {
      "display_name": "Python 3",
      "name": "python3"
    },
    "language_info": {
      "name": "python"
    },
    "accelerator": "GPU"
  },
  "cells": [
    {
      "cell_type": "markdown",
      "metadata": {
        "id": "yMQ6IBdJ-M4T"
      },
      "source": [
        "# This is the first baseline model of the MRI Thesis"
      ]
    },
    {
      "cell_type": "markdown",
      "metadata": {
        "id": "Dzn-XX9G-eoj"
      },
      "source": [
        "## Setting up the Google Drive"
      ]
    },
    {
      "cell_type": "code",
      "metadata": {
        "colab": {
          "base_uri": "https://localhost:8080/"
        },
        "id": "WnXDasQe-H0R",
        "outputId": "9af3cdb1-81ac-4eaf-afa0-cc7bef252332"
      },
      "source": [
        "## Loading the google drive where I stored the MOSMEDDATA files\n",
        "from google.colab import drive\n",
        "drive.mount('/content/drive')"
      ],
      "execution_count": 1,
      "outputs": [
        {
          "output_type": "stream",
          "name": "stdout",
          "text": [
            "Mounted at /content/drive\n"
          ]
        }
      ]
    },
    {
      "cell_type": "code",
      "metadata": {
        "id": "9BrXTHQk-Q4J"
      },
      "source": [
        "toTrain_path = '/content/drive/MyDrive/Colab Notebooks/Data/Second_Dataset'\n",
        "toPredict_path = '/content/drive/MyDrive/Colab Notebooks/Data/Second_Dataset'\n",
        "\n",
        "toTrain_path_output = '/content/drive/MyDrive/Colab Notebooks/Data/Second_Dataset/output_v2'\n",
        "toPredict_path_output = '/content/drive/MyDrive/Colab Notebooks/Data/Second_Dataset/output_v2'"
      ],
      "execution_count": 2,
      "outputs": []
    },
    {
      "cell_type": "markdown",
      "metadata": {
        "id": "uOlKQjal-qwU"
      },
      "source": [
        "### Sectioning off some of the data for prediction"
      ]
    },
    {
      "cell_type": "code",
      "metadata": {
        "id": "ncTbUP4m-2Df",
        "colab": {
          "base_uri": "https://localhost:8080/"
        },
        "outputId": "f1735a1d-f123-49e8-8a6d-e16d9d590dd9"
      },
      "source": [
        "## A tool for spliting the image files before processing\n",
        "!pip install split-folders\n",
        "import splitfolders\n",
        "\n",
        "## 80/20 Split of the data\n",
        "splitfolders.ratio(toTrain_path, output=toTrain_path_output, seed=1337, ratio=(0.95, 0.05))\n",
        "splitfolders.ratio(toPredict_path, output=toPredict_path_output, seed=1337, ratio=(0.95, 0.05))"
      ],
      "execution_count": 3,
      "outputs": [
        {
          "output_type": "stream",
          "name": "stdout",
          "text": [
            "Collecting split-folders\n",
            "  Downloading split_folders-0.4.3-py3-none-any.whl (7.4 kB)\n",
            "Installing collected packages: split-folders\n",
            "Successfully installed split-folders-0.4.3\n"
          ]
        },
        {
          "output_type": "stream",
          "name": "stderr",
          "text": [
            "Copying files: 126 files [03:43,  1.77s/ files]\n",
            "Copying files: 126 files [00:22,  5.61 files/s]\n"
          ]
        }
      ]
    },
    {
      "cell_type": "code",
      "metadata": {
        "id": "VkadyJFLBhXX",
        "colab": {
          "base_uri": "https://localhost:8080/"
        },
        "outputId": "05d7019b-7f1d-4247-e683-25d4e47c5340"
      },
      "source": [
        "import os\n",
        "\n",
        "## Alzheimers Files\n",
        "path, dirs, files = next(os.walk(toTrain_path_output + '/train/AD'))\n",
        "file_count = len(files)\n",
        "file_count"
      ],
      "execution_count": 4,
      "outputs": [
        {
          "output_type": "execute_result",
          "data": {
            "text/plain": [
              "63"
            ]
          },
          "metadata": {},
          "execution_count": 4
        }
      ]
    },
    {
      "cell_type": "code",
      "metadata": {
        "id": "fRdWABALBt4J",
        "colab": {
          "base_uri": "https://localhost:8080/"
        },
        "outputId": "f2783190-a814-4e12-f82d-5cd15fea7f99"
      },
      "source": [
        "## Normal Control Files\n",
        "path, dirs, files = next(os.walk(toTrain_path_output + '/train/NC'))\n",
        "file_count = len(files)\n",
        "file_count"
      ],
      "execution_count": 5,
      "outputs": [
        {
          "output_type": "execute_result",
          "data": {
            "text/plain": [
              "56"
            ]
          },
          "metadata": {},
          "execution_count": 5
        }
      ]
    },
    {
      "cell_type": "code",
      "metadata": {
        "id": "X5GuYHSUqYcs"
      },
      "source": [
        "import numpy as np\n",
        "import nibabel as nib\n",
        "from nibabel.testing import data_path\n",
        "from scipy import ndimage"
      ],
      "execution_count": 6,
      "outputs": []
    },
    {
      "cell_type": "code",
      "metadata": {
        "id": "4UBEoQS1B66r"
      },
      "source": [
        "## Read Function\n",
        "def read_NifTi(fp):\n",
        "    scan = nib.load(fp)\n",
        "    scan = scan.get_fdata()\n",
        "    return scan\n",
        "\n",
        "## Resize function\n",
        "def resizeVolume(img):\n",
        "\n",
        "    ## desired\n",
        "    d_depth = 64\n",
        "    d_width = 224\n",
        "    d_height = 224\n",
        "\n",
        "    ## current\n",
        "    c_depth = img.shape[-1]\n",
        "    c_width = img.shape[0]\n",
        "    c_height = img.shape[1]\n",
        "\n",
        "    ## factor to change by\n",
        "    d_factor = d_depth/c_depth\n",
        "    w_factor = d_width/c_width\n",
        "    h_factor = d_height/c_height\n",
        "\n",
        "    ## Adjust proper rotation\n",
        "    img = ndimage.rotate(img, 90, reshape = False)\n",
        "\n",
        "    ## apply the factors\n",
        "    img = ndimage.zoom(img, (w_factor, h_factor, d_factor), order = 1)\n",
        "\n",
        "    return img\n",
        "  \n",
        "## Normalize Function\n",
        "def normalizeVolume(vol):\n",
        "    min = -1000\n",
        "    max = 400\n",
        "    vol[vol < min] = min\n",
        "    vol[vol > max] = max\n",
        "    vol = (vol - min) / (max - min)\n",
        "    vol = vol.astype(\"float32\")\n",
        "    return vol\n",
        "\n",
        "## Processing Function\n",
        "def processVolume(path):\n",
        "    volume = read_NifTi(path)\n",
        "    volume = normalizeVolume(volume)\n",
        "    volume = resizeVolume(volume)\n",
        "    return volume"
      ],
      "execution_count": 7,
      "outputs": []
    },
    {
      "cell_type": "code",
      "metadata": {
        "id": "UcXv6BNtCA_5"
      },
      "source": [
        "## Setting up the filepaths for each file in NC\n",
        "normal_scan_paths = [\n",
        "    os.path.join(os.getcwd(), toTrain_path_output + '/train/NC', x)\n",
        "    for x in os.listdir(toTrain_path_output + '/train/NC')\n",
        "]\n",
        "\n",
        "## Setting up the filepaths for each file in class 2\n",
        "alzheimer_scan_paths = [\n",
        "    os.path.join(os.getcwd(), toTrain_path_output + '/train/AD', x)\n",
        "    for x in os.listdir(toTrain_path_output + '/train/AD')\n",
        "]"
      ],
      "execution_count": 8,
      "outputs": []
    },
    {
      "cell_type": "code",
      "metadata": {
        "id": "lPyj7hoACFFY"
      },
      "source": [
        "## Normal Subject files into numpy arrays\n",
        "normal_volumes = np.array([processVolume(path) for path in normal_scan_paths])\n",
        "normal_volume_labels = np.array([0 for _ in range(len(normal_volumes))])"
      ],
      "execution_count": 9,
      "outputs": []
    },
    {
      "cell_type": "code",
      "metadata": {
        "id": "Rt0xJWo2DOtI"
      },
      "source": [
        "## Alzheimer's Subject files into numpy arrays\n",
        "alzheimer_volumes = np.array([processVolume(path) for path in alzheimer_scan_paths])\n",
        "alzheimer_volume_labels = np.array([1 for _ in range(len(alzheimer_volumes))])"
      ],
      "execution_count": 10,
      "outputs": []
    },
    {
      "cell_type": "code",
      "metadata": {
        "id": "8tAP4M5HDqoH",
        "colab": {
          "base_uri": "https://localhost:8080/"
        },
        "outputId": "1a259168-37b5-4bbc-c7dc-504e5461940d"
      },
      "source": [
        "print(\"MRI scans with normal neuro presentation: \" + str(len(normal_scan_paths)))\n",
        "print(\"MRI scans with abnormal alzheimner's presentation: \" + str(len(alzheimer_scan_paths)))"
      ],
      "execution_count": 11,
      "outputs": [
        {
          "output_type": "stream",
          "name": "stdout",
          "text": [
            "MRI scans with normal neuro presentation: 56\n",
            "MRI scans with abnormal alzheimner's presentation: 63\n"
          ]
        }
      ]
    },
    {
      "cell_type": "code",
      "metadata": {
        "id": "w-Qr0hBfGtYV",
        "colab": {
          "base_uri": "https://localhost:8080/"
        },
        "outputId": "ac7ea655-aebe-4366-e60d-2f98c72659a4"
      },
      "source": [
        "## 60/20 Split of volumes\n",
        "X_train = np.concatenate((alzheimer_volumes[:50], normal_volumes[:50]), axis=0)\n",
        "y_train = np.concatenate((alzheimer_volume_labels[:50], normal_volume_labels[:50]), axis=0)\n",
        "\n",
        "X_val = np.concatenate((alzheimer_volumes[50:], normal_volumes[50:]), axis=0)\n",
        "y_val = np.concatenate((alzheimer_volume_labels[50:], normal_volume_labels[50:]), axis=0)\n",
        "\n",
        "print(   \n",
        "\"Number of samples in train and validation are %d and %d.\"\n",
        "    % (X_train.shape[0], X_val.shape[0])\n",
        ")\n",
        "X_train.shape"
      ],
      "execution_count": null,
      "outputs": [
        {
          "output_type": "stream",
          "name": "stdout",
          "text": [
            "Number of samples in train and validation are 100 and 19.\n"
          ]
        },
        {
          "output_type": "execute_result",
          "data": {
            "text/plain": [
              "(100, 224, 224, 64)"
            ]
          },
          "metadata": {},
          "execution_count": 12
        }
      ]
    },
    {
      "cell_type": "markdown",
      "metadata": {
        "id": "SiNsMKd0HtEn"
      },
      "source": [
        "### Preprocessing Directives"
      ]
    },
    {
      "cell_type": "code",
      "metadata": {
        "id": "umqdOMSCHZLj"
      },
      "source": [
        "import random\n",
        "import tensorflow as tf\n",
        "from tensorflow import keras\n",
        "from tensorflow.keras import layers"
      ],
      "execution_count": null,
      "outputs": []
    },
    {
      "cell_type": "code",
      "metadata": {
        "id": "GxV_Tgo4Hdzt"
      },
      "source": [
        "## Rotation Augmentation\n",
        "def rotate(volume):\n",
        "\n",
        "    def scipy_rotate(volume):\n",
        "        # define some rotation angles\n",
        "        angles = [-20, -10, -5, 5, 10, 20]\n",
        "        # pick angles at random\n",
        "        angle = random.choice(angles)\n",
        "        # rotate volume\n",
        "        volume = ndimage.rotate(volume, angle, reshape=False)\n",
        "        volume[volume < 0] = 0\n",
        "        volume[volume > 1] = 1\n",
        "        return volume\n",
        "\n",
        "    augmented_volume = tf.numpy_function(scipy_rotate, [volume], tf.float32)\n",
        "    return augmented_volume"
      ],
      "execution_count": null,
      "outputs": []
    },
    {
      "cell_type": "code",
      "metadata": {
        "id": "8wj7QiliH1vZ"
      },
      "source": [
        "## For now we will not do preprocessing\n",
        "## Only add the the stack to match dimensionality\n",
        "\n",
        "def train_preprocess(volume, label):\n",
        "  # volume = rotate(volume)\n",
        "  volume = tf.stack((volume,)*3, axis = 3)\n",
        "  return volume, label\n",
        "def valid_preprocess(volume, label):\n",
        "  volume = tf.stack((volume,)*3, axis = 3)\n",
        "  return volume, label"
      ],
      "execution_count": null,
      "outputs": []
    },
    {
      "cell_type": "code",
      "metadata": {
        "id": "6FF5evksIWhE"
      },
      "source": [
        "## Run the preprocessing Steps\n",
        "X_train_r, y_train_r = train_preprocess(X_train, y_train)\n",
        "X_val_r, y_val_r = valid_preprocess(X_val, y_val)"
      ],
      "execution_count": null,
      "outputs": []
    },
    {
      "cell_type": "markdown",
      "source": [
        "## Taking away the top and bottom pictures so that there are no blacked out\n",
        "### This will allow the model to pick up on real patterns reather than just\n",
        "### useless information about non-functional data"
      ],
      "metadata": {
        "id": "-NFJ-vVZIKnh"
      }
    },
    {
      "cell_type": "code",
      "source": [
        "numImagesPerVoxel = 40"
      ],
      "metadata": {
        "id": "2_FYjacXN2SS"
      },
      "execution_count": null,
      "outputs": []
    },
    {
      "cell_type": "code",
      "metadata": {
        "id": "s5VLJfogJYH-"
      },
      "source": [
        "## Slicing Function\n",
        "def threeDToTwoD(threeDVol, numVol, numImages):\n",
        "\n",
        "  twoDVol = np.zeros((numVol*numImages, 224, 224, 3), np.float32)\n",
        "\n",
        "  count = 0\n",
        "\n",
        "  for i in range(numVol):\n",
        "    for j in range(12,52):\n",
        "      twoDVol[count] = threeDVol[i,:,:,:,j]\n",
        "      count = count + 1\n",
        "\n",
        "  return twoDVol"
      ],
      "execution_count": null,
      "outputs": []
    },
    {
      "cell_type": "markdown",
      "source": [
        "### Here i realized that this was not accounting for the y labels correctly\n",
        "### Therefore I added the numImages"
      ],
      "metadata": {
        "id": "6RuDQ_WEJGLk"
      }
    },
    {
      "cell_type": "code",
      "metadata": {
        "id": "IBgkmVZqKioT"
      },
      "source": [
        "## Extending Labels to Match\n",
        "def extendLabels(labelArr, numVol, numImages):\n",
        "\n",
        "  newLabelArr = np.zeros((numVol * numImages), np.float32)\n",
        "\n",
        "  for i in range(numVol):\n",
        "    for j in range(numImages):\n",
        "      newLabelArr[(i*numImages)+j] = labelArr[i]\n",
        "\n",
        "  return newLabelArr"
      ],
      "execution_count": null,
      "outputs": []
    },
    {
      "cell_type": "code",
      "source": [
        "len(y_train_r)"
      ],
      "metadata": {
        "colab": {
          "base_uri": "https://localhost:8080/"
        },
        "id": "V9ZsMsz8Jmf8",
        "outputId": "ddc95df9-af37-492b-9452-f3e7eddf7428"
      },
      "execution_count": null,
      "outputs": [
        {
          "output_type": "execute_result",
          "data": {
            "text/plain": [
              "100"
            ]
          },
          "metadata": {},
          "execution_count": 40
        }
      ]
    },
    {
      "cell_type": "code",
      "source": [
        "len(y_val_r)"
      ],
      "metadata": {
        "colab": {
          "base_uri": "https://localhost:8080/"
        },
        "id": "QFn1vRwiJpfj",
        "outputId": "38985ef8-a02e-46fa-99dc-faf44fdab760"
      },
      "execution_count": null,
      "outputs": [
        {
          "output_type": "execute_result",
          "data": {
            "text/plain": [
              "19"
            ]
          },
          "metadata": {},
          "execution_count": 41
        }
      ]
    },
    {
      "cell_type": "code",
      "metadata": {
        "id": "HKnfxcEFKMGQ"
      },
      "source": [
        "## New arrays\n",
        "\n",
        "## First the training images\n",
        "X_train_f = threeDToTwoD(X_train_r, len(X_train_r), numImagesPerVoxel)\n",
        "\n",
        "## Second the validation images\n",
        "X_val_f = threeDToTwoD(X_val_r, len(X_val_r), numImagesPerVoxel)\n",
        "\n",
        "## Third the training labels\n",
        "y_train_f = extendLabels(y_train_r, len(y_train_r), numImagesPerVoxel)\n",
        "\n",
        "## Fourth the validation labels\n",
        "y_val_f = extendLabels(y_val_r, len(y_val_r), numImagesPerVoxel)"
      ],
      "execution_count": null,
      "outputs": []
    },
    {
      "cell_type": "code",
      "metadata": {
        "colab": {
          "base_uri": "https://localhost:8080/"
        },
        "id": "ft1hgOAZHAOz",
        "outputId": "94117629-8f45-4bae-dee5-0172812978f8"
      },
      "source": [
        "X_train_f.shape"
      ],
      "execution_count": null,
      "outputs": [
        {
          "output_type": "execute_result",
          "data": {
            "text/plain": [
              "(4000, 224, 224, 3)"
            ]
          },
          "metadata": {},
          "execution_count": 83
        }
      ]
    },
    {
      "cell_type": "code",
      "metadata": {
        "id": "rZgztuhdF2ks",
        "colab": {
          "base_uri": "https://localhost:8080/",
          "height": 286
        },
        "outputId": "0bac86f5-4d25-43a7-e6f2-561ab80dc059"
      },
      "source": [
        "import matplotlib.pyplot as plt\n",
        "plt.imshow(X_train_f[40,:,:,2],cmap='bone')"
      ],
      "execution_count": null,
      "outputs": [
        {
          "output_type": "execute_result",
          "data": {
            "text/plain": [
              "<matplotlib.image.AxesImage at 0x7fc636734f50>"
            ]
          },
          "metadata": {},
          "execution_count": 62
        },
        {
          "output_type": "display_data",
          "data": {
            "image/png": "[encoded data removed]",
            "text/plain": [
              "<Figure size 432x288 with 1 Axes>"
            ]
          },
          "metadata": {
            "needs_background": "light"
          }
        }
      ]
    },
    {
      "cell_type": "code",
      "metadata": {
        "id": "Kop-xkmpIIcE",
        "colab": {
          "base_uri": "https://localhost:8080/",
          "height": 286
        },
        "outputId": "6d2ec604-e1bc-4f1a-9198-ffed5c3fdc86"
      },
      "source": [
        "plt.imshow(X_train_f[3100,:,:,0],cmap='bone')"
      ],
      "execution_count": null,
      "outputs": [
        {
          "output_type": "execute_result",
          "data": {
            "text/plain": [
              "<matplotlib.image.AxesImage at 0x7fc636702cd0>"
            ]
          },
          "metadata": {},
          "execution_count": 63
        },
        {
          "output_type": "display_data",
          "data": {
            "image/png": "[encoded data removed]",
            "text/plain": [
              "<Figure size 432x288 with 1 Axes>"
            ]
          },
          "metadata": {
            "needs_background": "light"
          }
        }
      ]
    },
    {
      "cell_type": "markdown",
      "metadata": {
        "id": "xdMslY6dK96k"
      },
      "source": [
        "### Now the model"
      ]
    },
    {
      "cell_type": "code",
      "metadata": {
        "id": "10glJ2BtLCTr"
      },
      "source": [
        "import keras\n",
        "from keras.models import Sequential\n",
        "from keras.layers import Dense, Flatten, Conv3D, MaxPooling3D, Dropout, BatchNormalization\n",
        "import matplotlib.pyplot as plt\n",
        "from tensorflow import keras\n",
        "from tensorflow.keras import layers"
      ],
      "execution_count": null,
      "outputs": []
    },
    {
      "cell_type": "code",
      "metadata": {
        "id": "1Mb9wIJOLqeH"
      },
      "source": [
        "data_augmentation = tf.keras.Sequential(\n",
        "    [layers.RandomFlip(\"horizontal\"), layers.RandomRotation(0.1),])"
      ],
      "execution_count": null,
      "outputs": []
    },
    {
      "cell_type": "code",
      "metadata": {
        "id": "aWyVyORaLs1g",
        "colab": {
          "base_uri": "https://localhost:8080/"
        },
        "outputId": "afd04599-abe0-4314-bd2f-5db43fef7358"
      },
      "source": [
        "## The model build\n",
        "def buildModel():\n",
        "\n",
        "  initial_model = tf.keras.applications.VGG19(\n",
        "      weights = 'imagenet',\n",
        "      input_shape = (224,224,3),\n",
        "      include_top = False)\n",
        "  \n",
        "  ## Freeze the pretrained model parameters\n",
        "  initial_model.trainable = False\n",
        "\n",
        "  inputs = tf.keras.Input(shape = (224,224,3))\n",
        "\n",
        "  x = data_augmentation(inputs)\n",
        "\n",
        "  scale_layer = tf.keras.layers.Rescaling(scale=1 / 127.5, offset=-1)\n",
        "  x = scale_layer(x)\n",
        "\n",
        "  x = initial_model(inputs, training = False)\n",
        "  x = tf.keras.layers.GlobalAveragePooling2D()(x)\n",
        "  outputs = tf.keras.layers.Dense(1, activation='sigmoid')(x)\n",
        "\n",
        "  model = tf.keras.Model(inputs, outputs)\n",
        "  return model\n",
        "\n",
        "model = buildModel()\n",
        "model.summary()"
      ],
      "execution_count": null,
      "outputs": [
        {
          "output_type": "stream",
          "name": "stdout",
          "text": [
            "Model: \"model_3\"\n",
            "_________________________________________________________________\n",
            " Layer (type)                Output Shape              Param #   \n",
            "=================================================================\n",
            " input_8 (InputLayer)        [(None, 224, 224, 3)]     0         \n",
            "                                                                 \n",
            " vgg19 (Functional)          (None, 7, 7, 512)         20024384  \n",
            "                                                                 \n",
            " global_average_pooling2d_3   (None, 512)              0         \n",
            " (GlobalAveragePooling2D)                                        \n",
            "                                                                 \n",
            " dense_3 (Dense)             (None, 1)                 513       \n",
            "                                                                 \n",
            "=================================================================\n",
            "Total params: 20,024,897\n",
            "Trainable params: 513\n",
            "Non-trainable params: 20,024,384\n",
            "_________________________________________________________________\n"
          ]
        }
      ]
    },
    {
      "cell_type": "code",
      "metadata": {
        "id": "Che8qwfAL1tK"
      },
      "source": [
        "## Setting up the fit parameters\n",
        "lr_schedule = tf.keras.optimizers.schedules.ExponentialDecay(\n",
        "    0.001, decay_steps=100000, decay_rate=0.96, staircase=True\n",
        ")\n",
        "\n",
        "model.compile(loss = tf.keras.losses.BinaryCrossentropy(),\n",
        "              optimizer = tf.keras.optimizers.Adam(learning_rate=lr_schedule),\n",
        "              metrics = tf.keras.metrics.BinaryAccuracy(),\n",
        "              )\n",
        "\n",
        "## Defining checkpoints\n",
        "checkpoint_cb = tf.keras.callbacks.ModelCheckpoint(\n",
        "    \"3D_CT_classification.h5\", save_best_only=True\n",
        ")\n",
        "early_stopping_cb = tf.keras.callbacks.EarlyStopping(monitor='loss', patience=5)\n",
        "\n",
        "## How man runs\n",
        "epochs = 50"
      ],
      "execution_count": null,
      "outputs": []
    },
    {
      "cell_type": "code",
      "metadata": {
        "id": "t64xs7N1L2Yv",
        "colab": {
          "base_uri": "https://localhost:8080/"
        },
        "outputId": "232ed544-35a6-47f3-87cd-515c54948a61"
      },
      "source": [
        "## Training the model\n",
        "history = model.fit(x = X_train_f,\n",
        "                    y = y_train_f,\n",
        "                    validation_data=(X_val_f, y_val_f),\n",
        "                    epochs=epochs,\n",
        "                    shuffle=True,\n",
        "                    verbose='auto',\n",
        "                    callbacks = [ checkpoint_cb , early_stopping_cb],\n",
        "                    )"
      ],
      "execution_count": null,
      "outputs": [
        {
          "output_type": "stream",
          "name": "stdout",
          "text": [
            "Epoch 1/50\n",
            "125/125 [==============================] - 12s 95ms/step - loss: 0.6930 - binary_accuracy: 0.5157 - val_loss: 0.6886 - val_binary_accuracy: 0.5329\n",
            "Epoch 2/50\n",
            "125/125 [==============================] - 11s 91ms/step - loss: 0.6818 - binary_accuracy: 0.5813 - val_loss: 0.6723 - val_binary_accuracy: 0.6395\n",
            "Epoch 3/50\n",
            "125/125 [==============================] - 11s 90ms/step - loss: 0.6753 - binary_accuracy: 0.5943 - val_loss: 0.6939 - val_binary_accuracy: 0.4934\n",
            "Epoch 4/50\n",
            "125/125 [==============================] - 11s 89ms/step - loss: 0.6668 - binary_accuracy: 0.6137 - val_loss: 0.6766 - val_binary_accuracy: 0.5776\n",
            "Epoch 5/50\n",
            "125/125 [==============================] - 11s 89ms/step - loss: 0.6610 - binary_accuracy: 0.6202 - val_loss: 0.6931 - val_binary_accuracy: 0.4987\n",
            "Epoch 6/50\n",
            "125/125 [==============================] - 11s 90ms/step - loss: 0.6543 - binary_accuracy: 0.6280 - val_loss: 0.7169 - val_binary_accuracy: 0.4632\n",
            "Epoch 7/50\n",
            "125/125 [==============================] - 11s 89ms/step - loss: 0.6512 - binary_accuracy: 0.6273 - val_loss: 0.7054 - val_binary_accuracy: 0.4842\n",
            "Epoch 8/50\n",
            "125/125 [==============================] - 11s 89ms/step - loss: 0.6472 - binary_accuracy: 0.6430 - val_loss: 0.6862 - val_binary_accuracy: 0.5237\n",
            "Epoch 9/50\n",
            "125/125 [==============================] - 11s 89ms/step - loss: 0.6403 - binary_accuracy: 0.6590 - val_loss: 0.6865 - val_binary_accuracy: 0.5316\n",
            "Epoch 10/50\n",
            "125/125 [==============================] - 11s 90ms/step - loss: 0.6367 - binary_accuracy: 0.6570 - val_loss: 0.6925 - val_binary_accuracy: 0.5118\n",
            "Epoch 11/50\n",
            "125/125 [==============================] - 11s 92ms/step - loss: 0.6322 - binary_accuracy: 0.6645 - val_loss: 0.6592 - val_binary_accuracy: 0.6132\n",
            "Epoch 12/50\n",
            "125/125 [==============================] - 11s 90ms/step - loss: 0.6279 - binary_accuracy: 0.6687 - val_loss: 0.7197 - val_binary_accuracy: 0.4724\n",
            "Epoch 13/50\n",
            "125/125 [==============================] - 11s 90ms/step - loss: 0.6251 - binary_accuracy: 0.6690 - val_loss: 0.6787 - val_binary_accuracy: 0.5592\n",
            "Epoch 14/50\n",
            "125/125 [==============================] - 11s 89ms/step - loss: 0.6210 - binary_accuracy: 0.6787 - val_loss: 0.6790 - val_binary_accuracy: 0.5579\n",
            "Epoch 15/50\n",
            "125/125 [==============================] - 11s 90ms/step - loss: 0.6180 - binary_accuracy: 0.6812 - val_loss: 0.6836 - val_binary_accuracy: 0.5474\n",
            "Epoch 16/50\n",
            "125/125 [==============================] - 11s 89ms/step - loss: 0.6140 - binary_accuracy: 0.6895 - val_loss: 0.6873 - val_binary_accuracy: 0.5355\n",
            "Epoch 17/50\n",
            "125/125 [==============================] - 11s 89ms/step - loss: 0.6117 - binary_accuracy: 0.6917 - val_loss: 0.6971 - val_binary_accuracy: 0.5211\n",
            "Epoch 18/50\n",
            "125/125 [==============================] - 11s 89ms/step - loss: 0.6083 - binary_accuracy: 0.6952 - val_loss: 0.6781 - val_binary_accuracy: 0.5579\n",
            "Epoch 19/50\n",
            "125/125 [==============================] - 11s 90ms/step - loss: 0.6047 - binary_accuracy: 0.7025 - val_loss: 0.6911 - val_binary_accuracy: 0.5342\n",
            "Epoch 20/50\n",
            "125/125 [==============================] - 11s 90ms/step - loss: 0.6025 - binary_accuracy: 0.7013 - val_loss: 0.7429 - val_binary_accuracy: 0.4579\n",
            "Epoch 21/50\n",
            "125/125 [==============================] - 11s 89ms/step - loss: 0.6001 - binary_accuracy: 0.6948 - val_loss: 0.7054 - val_binary_accuracy: 0.5132\n",
            "Epoch 22/50\n",
            "125/125 [==============================] - 11s 89ms/step - loss: 0.5979 - binary_accuracy: 0.7010 - val_loss: 0.6756 - val_binary_accuracy: 0.5579\n",
            "Epoch 23/50\n",
            "125/125 [==============================] - 11s 89ms/step - loss: 0.5956 - binary_accuracy: 0.6960 - val_loss: 0.6939 - val_binary_accuracy: 0.5342\n",
            "Epoch 24/50\n",
            "125/125 [==============================] - 11s 89ms/step - loss: 0.5925 - binary_accuracy: 0.7105 - val_loss: 0.7085 - val_binary_accuracy: 0.5171\n",
            "Epoch 25/50\n",
            "125/125 [==============================] - 11s 89ms/step - loss: 0.5912 - binary_accuracy: 0.6982 - val_loss: 0.6860 - val_binary_accuracy: 0.5487\n",
            "Epoch 26/50\n",
            "125/125 [==============================] - 11s 89ms/step - loss: 0.5871 - binary_accuracy: 0.7143 - val_loss: 0.7049 - val_binary_accuracy: 0.5224\n",
            "Epoch 27/50\n",
            "125/125 [==============================] - 11s 89ms/step - loss: 0.5855 - binary_accuracy: 0.7100 - val_loss: 0.6863 - val_binary_accuracy: 0.5487\n",
            "Epoch 28/50\n",
            "125/125 [==============================] - 11s 89ms/step - loss: 0.5825 - binary_accuracy: 0.7182 - val_loss: 0.7114 - val_binary_accuracy: 0.5092\n",
            "Epoch 29/50\n",
            "125/125 [==============================] - 11s 89ms/step - loss: 0.5807 - binary_accuracy: 0.7245 - val_loss: 0.7572 - val_binary_accuracy: 0.4579\n",
            "Epoch 30/50\n",
            "125/125 [==============================] - 11s 89ms/step - loss: 0.5785 - binary_accuracy: 0.7222 - val_loss: 0.7090 - val_binary_accuracy: 0.5145\n",
            "Epoch 31/50\n",
            "125/125 [==============================] - 11s 89ms/step - loss: 0.5778 - binary_accuracy: 0.7193 - val_loss: 0.6977 - val_binary_accuracy: 0.5368\n",
            "Epoch 32/50\n",
            "125/125 [==============================] - 11s 89ms/step - loss: 0.5760 - binary_accuracy: 0.7182 - val_loss: 0.6620 - val_binary_accuracy: 0.5921\n",
            "Epoch 33/50\n",
            "125/125 [==============================] - 11s 89ms/step - loss: 0.5727 - binary_accuracy: 0.7265 - val_loss: 0.6891 - val_binary_accuracy: 0.5474\n",
            "Epoch 34/50\n",
            "125/125 [==============================] - 11s 89ms/step - loss: 0.5710 - binary_accuracy: 0.7270 - val_loss: 0.6895 - val_binary_accuracy: 0.5474\n",
            "Epoch 35/50\n",
            "125/125 [==============================] - 11s 89ms/step - loss: 0.5680 - binary_accuracy: 0.7253 - val_loss: 0.7614 - val_binary_accuracy: 0.4697\n",
            "Epoch 36/50\n",
            "125/125 [==============================] - 11s 89ms/step - loss: 0.5683 - binary_accuracy: 0.7258 - val_loss: 0.7141 - val_binary_accuracy: 0.5171\n",
            "Epoch 37/50\n",
            "125/125 [==============================] - 11s 89ms/step - loss: 0.5645 - binary_accuracy: 0.7350 - val_loss: 0.7469 - val_binary_accuracy: 0.4816\n",
            "Epoch 38/50\n",
            "125/125 [==============================] - 11s 89ms/step - loss: 0.5646 - binary_accuracy: 0.7293 - val_loss: 0.6754 - val_binary_accuracy: 0.5592\n",
            "Epoch 39/50\n",
            "125/125 [==============================] - 11s 89ms/step - loss: 0.5620 - binary_accuracy: 0.7362 - val_loss: 0.6875 - val_binary_accuracy: 0.5487\n",
            "Epoch 40/50\n",
            "125/125 [==============================] - 11s 89ms/step - loss: 0.5598 - binary_accuracy: 0.7390 - val_loss: 0.6698 - val_binary_accuracy: 0.5737\n",
            "Epoch 41/50\n",
            "125/125 [==============================] - 11s 89ms/step - loss: 0.5583 - binary_accuracy: 0.7337 - val_loss: 0.6939 - val_binary_accuracy: 0.5447\n",
            "Epoch 42/50\n",
            "125/125 [==============================] - 11s 89ms/step - loss: 0.5574 - binary_accuracy: 0.7393 - val_loss: 0.6990 - val_binary_accuracy: 0.5421\n",
            "Epoch 43/50\n",
            "125/125 [==============================] - 11s 89ms/step - loss: 0.5551 - binary_accuracy: 0.7368 - val_loss: 0.6774 - val_binary_accuracy: 0.5605\n",
            "Epoch 44/50\n",
            "125/125 [==============================] - 11s 89ms/step - loss: 0.5559 - binary_accuracy: 0.7335 - val_loss: 0.7657 - val_binary_accuracy: 0.4724\n",
            "Epoch 45/50\n",
            "125/125 [==============================] - 11s 90ms/step - loss: 0.5526 - binary_accuracy: 0.7380 - val_loss: 0.7076 - val_binary_accuracy: 0.5382\n",
            "Epoch 46/50\n",
            "125/125 [==============================] - 11s 89ms/step - loss: 0.5495 - binary_accuracy: 0.7440 - val_loss: 0.7160 - val_binary_accuracy: 0.5250\n",
            "Epoch 47/50\n",
            "125/125 [==============================] - 11s 89ms/step - loss: 0.5492 - binary_accuracy: 0.7377 - val_loss: 0.7066 - val_binary_accuracy: 0.5382\n",
            "Epoch 48/50\n",
            "125/125 [==============================] - 11s 89ms/step - loss: 0.5479 - binary_accuracy: 0.7450 - val_loss: 0.7033 - val_binary_accuracy: 0.5395\n",
            "Epoch 49/50\n",
            "125/125 [==============================] - 11s 89ms/step - loss: 0.5459 - binary_accuracy: 0.7475 - val_loss: 0.6908 - val_binary_accuracy: 0.5487\n",
            "Epoch 50/50\n",
            "125/125 [==============================] - 11s 89ms/step - loss: 0.5459 - binary_accuracy: 0.7400 - val_loss: 0.6821 - val_binary_accuracy: 0.5566\n"
          ]
        }
      ]
    },
    {
      "cell_type": "code",
      "metadata": {
        "id": "1PMddCgeapxc",
        "colab": {
          "base_uri": "https://localhost:8080/"
        },
        "outputId": "24172dc0-2da8-47e9-e9ea-62be1cd91929"
      },
      "source": [
        "# Calling `save('my_model')` creates a SavedModel folder `my_model`.\n",
        "model.save(\"/content/drive/MyDrive/Colab Notebooks/MRI_model_v3\")"
      ],
      "execution_count": null,
      "outputs": [
        {
          "output_type": "stream",
          "name": "stdout",
          "text": [
            "INFO:tensorflow:Assets written to: /content/drive/MyDrive/Colab Notebooks/MRI_model_v3/assets\n"
          ]
        }
      ]
    },
    {
      "cell_type": "markdown",
      "metadata": {
        "id": "FnnHN2hNv1IW"
      },
      "source": [
        "## Loading the model and predicting here"
      ]
    },
    {
      "cell_type": "code",
      "metadata": {
        "id": "DLsMkxc-5LW8"
      },
      "source": [
        "from tensorflow import keras\n",
        "reloaded_model = keras.models.load_model(\"/content/drive/MyDrive/Colab Notebooks/MRI_model_v3\")"
      ],
      "execution_count": null,
      "outputs": []
    },
    {
      "cell_type": "markdown",
      "metadata": {
        "id": "nm5KZETuwQQg"
      },
      "source": [
        "## Here we will take a look at a visualization of the model."
      ]
    },
    {
      "cell_type": "code",
      "metadata": {
        "id": "fb6LQbNSwVZ4",
        "colab": {
          "base_uri": "https://localhost:8080/"
        },
        "outputId": "f34b2727-1344-4cc2-e204-875130f8ee74"
      },
      "source": [
        "!pip3 install visualkeras"
      ],
      "execution_count": null,
      "outputs": [
        {
          "output_type": "stream",
          "name": "stdout",
          "text": [
            "Requirement already satisfied: visualkeras in /usr/local/lib/python3.7/dist-packages (0.0.2)\n",
            "Requirement already satisfied: aggdraw>=1.3.11 in /usr/local/lib/python3.7/dist-packages (from visualkeras) (1.3.12)\n",
            "Requirement already satisfied: pillow>=6.2.0 in /usr/local/lib/python3.7/dist-packages (from visualkeras) (7.1.2)\n",
            "Requirement already satisfied: numpy>=1.18.1 in /usr/local/lib/python3.7/dist-packages (from visualkeras) (1.19.5)\n"
          ]
        }
      ]
    },
    {
      "cell_type": "code",
      "metadata": {
        "id": "ATePFonI5MBF",
        "colab": {
          "base_uri": "https://localhost:8080/",
          "height": 1000
        },
        "outputId": "820c6c7b-a6b1-45f6-8cc4-daaf17cfe4be"
      },
      "source": [
        "## Using visualkeras\n",
        "import visualkeras\n",
        "visualkeras.layered_view(reloaded_model).show()\n",
        "visualkeras.layered_view(reloaded_model)"
      ],
      "execution_count": null,
      "outputs": [
        {
          "output_type": "execute_result",
          "data": {
            "image/png": "[encoded data removed]",
            "text/plain": [
              "<PIL.Image.Image image mode=RGBA size=346x1195 at 0x7FC6367DAA50>"
            ]
          },
          "metadata": {},
          "execution_count": 102
        }
      ]
    },
    {
      "cell_type": "code",
      "metadata": {
        "id": "NaAwp6sT7Jl8",
        "colab": {
          "base_uri": "https://localhost:8080/",
          "height": 422
        },
        "outputId": "d1fdd319-1610-4cad-bd8a-5417af05fa04"
      },
      "source": [
        "## Using the keras visualizer\n",
        "tf.keras.utils.plot_model(reloaded_model, show_shapes=True)"
      ],
      "execution_count": null,
      "outputs": [
        {
          "output_type": "execute_result",
          "data": {
            "image/png": "[encoded data removed]",
            "text/plain": [
              "<IPython.core.display.Image object>"
            ]
          },
          "metadata": {},
          "execution_count": 103
        }
      ]
    },
    {
      "cell_type": "code",
      "metadata": {
        "id": "4dCwhyCva3ul",
        "colab": {
          "base_uri": "https://localhost:8080/"
        },
        "outputId": "29a5104b-5750-4d44-f0ec-f4e98b379101"
      },
      "source": [
        "print(history.history.keys())"
      ],
      "execution_count": null,
      "outputs": [
        {
          "output_type": "stream",
          "name": "stdout",
          "text": [
            "dict_keys(['loss', 'binary_accuracy', 'val_loss', 'val_binary_accuracy'])\n"
          ]
        }
      ]
    },
    {
      "cell_type": "code",
      "metadata": {
        "id": "P-p1JWT3SpAp",
        "colab": {
          "base_uri": "https://localhost:8080/",
          "height": 295
        },
        "outputId": "404bcda8-18fd-45d8-a89b-73c2bdd567fe"
      },
      "source": [
        "## Showing the accuracy as a graph for easier viewing\n",
        "import matplotlib.pyplot as plt\n",
        "\n",
        "plt.plot(history.history['binary_accuracy'])\n",
        "plt.plot(history.history['val_binary_accuracy'])\n",
        "plt.title('model accuracy')\n",
        "plt.ylabel('binary_accuracy')\n",
        "plt.xlabel('epoch')\n",
        "plt.legend(['train', 'val'], loc='upper left')\n",
        "plt.show()"
      ],
      "execution_count": null,
      "outputs": [
        {
          "output_type": "display_data",
          "data": {
            "image/png": "[encoded data removed]",
            "text/plain": [
              "<Figure size 432x288 with 1 Axes>"
            ]
          },
          "metadata": {
            "needs_background": "light"
          }
        }
      ]
    },
    {
      "cell_type": "code",
      "metadata": {
        "id": "x7LGmGMpTQVo",
        "colab": {
          "base_uri": "https://localhost:8080/",
          "height": 295
        },
        "outputId": "9a97c357-e6c0-4fd8-d16c-2c672fed6d16"
      },
      "source": [
        "plt.plot(history.history['loss'])\n",
        "plt.plot(history.history['val_loss'])\n",
        "plt.title('model loss')\n",
        "plt.ylabel('loss')\n",
        "plt.xlabel('epoch')\n",
        "plt.legend(['train', 'val'], loc='upper left')\n",
        "plt.show()"
      ],
      "execution_count": null,
      "outputs": [
        {
          "output_type": "display_data",
          "data": {
            "image/png": "[encoded data removed]",
            "text/plain": [
              "<Figure size 432x288 with 1 Axes>"
            ]
          },
          "metadata": {
            "needs_background": "light"
          }
        }
      ]
    },
    {
      "cell_type": "markdown",
      "metadata": {
        "id": "Eeneeg3PNDRA"
      },
      "source": [
        "## Now to predict some and collec the stats"
      ]
    },
    {
      "cell_type": "code",
      "metadata": {
        "id": "_WneifiP6Hy7",
        "colab": {
          "base_uri": "https://localhost:8080/"
        },
        "outputId": "fe676256-7c45-4ec3-9f2e-4e130011be42"
      },
      "source": [
        "## Alzheimers Files\n",
        "path, dirs, files = next(os.walk(toPredict_path_output + '/val/AD'))\n",
        "file_count = len(files)\n",
        "print(file_count)\n",
        "\n",
        "## Normal Control Files\n",
        "path, dirs, files = next(os.walk(toPredict_path_output + '/val/NC'))\n",
        "file_count = len(files)\n",
        "print(file_count)"
      ],
      "execution_count": null,
      "outputs": [
        {
          "output_type": "stream",
          "name": "stdout",
          "text": [
            "4\n",
            "3\n"
          ]
        }
      ]
    },
    {
      "cell_type": "code",
      "metadata": {
        "id": "LqUeOfh6Nbvt"
      },
      "source": [
        "## Setting up the filepaths for each file in NC\n",
        "predict_normal_scan_paths = [\n",
        "    os.path.join(os.getcwd(), toPredict_path_output + '/val/NC', x)\n",
        "    for x in os.listdir(toPredict_path_output + '/val/NC')\n",
        "]\n",
        "\n",
        "## Setting up the filepaths for each file in class 2\n",
        "predict_alzheimer_scan_paths = [\n",
        "    os.path.join(os.getcwd(), toPredict_path_output + '/val/AD', x)\n",
        "    for x in os.listdir(toPredict_path_output + '/val/AD')\n",
        "]"
      ],
      "execution_count": null,
      "outputs": []
    },
    {
      "cell_type": "code",
      "metadata": {
        "id": "sm4g6eKWN1pj",
        "colab": {
          "base_uri": "https://localhost:8080/"
        },
        "outputId": "81e43f36-b637-44e7-b9e0-3f07594a6552"
      },
      "source": [
        "## Normal Subject files into numpy arrays\n",
        "predict_normal_volumes = np.array([processVolume(path) for path in predict_normal_scan_paths])\n",
        "predict_normal_volume_labels = np.array([0 for _ in range(len(predict_normal_volumes))])\n",
        "\n",
        "## Alzheimer's Subject files into numpy arrays\n",
        "predict_alzheimer_volumes = np.array([processVolume(path) for path in predict_alzheimer_scan_paths])\n",
        "predict_alzheimer_volume_labels = np.array([1 for _ in range(len(predict_alzheimer_volumes))])\n",
        "\n",
        "print(\"MRI scans with normal neuro presentation: \" + str(len(predict_normal_scan_paths)))\n",
        "print(\"MRI scans with abnormal alzheimner's presentation: \" + str(len(predict_alzheimer_scan_paths)))"
      ],
      "execution_count": null,
      "outputs": [
        {
          "output_type": "stream",
          "name": "stdout",
          "text": [
            "MRI scans with normal neuro presentation: 3\n",
            "MRI scans with abnormal alzheimner's presentation: 4\n"
          ]
        }
      ]
    },
    {
      "cell_type": "code",
      "metadata": {
        "id": "VEk5nS_kOZ6j"
      },
      "source": [
        "## Setting up the X and Y for predictions\n",
        "X_predict = np.concatenate((predict_normal_volumes, predict_alzheimer_volumes), axis=0)\n",
        "y_predict = np.concatenate((predict_normal_volume_labels, predict_alzheimer_volume_labels), axis=0)"
      ],
      "execution_count": null,
      "outputs": []
    },
    {
      "cell_type": "code",
      "metadata": {
        "id": "3sBoe3FsyWVx",
        "colab": {
          "base_uri": "https://localhost:8080/"
        },
        "outputId": "77b5c8fc-0cb9-4e60-916e-9b3e1760649d"
      },
      "source": [
        "## Applying the same RGB fix\n",
        "X_predict_r, y_predict_r = train_preprocess(X_predict, y_predict)\n",
        "print(X_predict_r.shape)\n",
        "print(y_predict_r.shape)"
      ],
      "execution_count": null,
      "outputs": [
        {
          "output_type": "stream",
          "name": "stdout",
          "text": [
            "(7, 224, 224, 3, 64)\n",
            "(7,)\n"
          ]
        }
      ]
    },
    {
      "cell_type": "code",
      "source": [
        "len(X_predict)"
      ],
      "metadata": {
        "colab": {
          "base_uri": "https://localhost:8080/"
        },
        "id": "Euv2AFCzrQZp",
        "outputId": "75be8c13-062b-451b-d40a-783833a2d1ba"
      },
      "execution_count": null,
      "outputs": [
        {
          "output_type": "execute_result",
          "data": {
            "text/plain": [
              "7"
            ]
          },
          "metadata": {},
          "execution_count": 112
        }
      ]
    },
    {
      "cell_type": "code",
      "metadata": {
        "id": "LiHYktsgzd5S"
      },
      "source": [
        "## Second the validation images\n",
        "X_predict_f = threeDToTwoD(X_predict_r, len(X_predict),numImagesPerVoxel)\n",
        "\n",
        "## Third the training labels\n",
        "y_predict_f = extendLabels(y_predict_r, len(y_predict),numImagesPerVoxel)"
      ],
      "execution_count": null,
      "outputs": []
    },
    {
      "cell_type": "code",
      "metadata": {
        "id": "jlfnQ6Gc1fjd",
        "colab": {
          "base_uri": "https://localhost:8080/"
        },
        "outputId": "eed31c2a-f754-4e9f-b6cc-d681d518efab"
      },
      "source": [
        "## Doing the predictions and getting the metrics\n",
        "prediction = reloaded_model.predict(X_predict_f)\n",
        "\n",
        "loss, metrics = reloaded_model.evaluate(X_predict_f, y_predict_f)"
      ],
      "execution_count": null,
      "outputs": [
        {
          "output_type": "stream",
          "name": "stdout",
          "text": [
            "9/9 [==============================] - 1s 75ms/step - loss: 0.6160 - binary_accuracy: 0.6786\n"
          ]
        }
      ]
    },
    {
      "cell_type": "code",
      "metadata": {
        "id": "2LiIUS0O-OBT",
        "colab": {
          "base_uri": "https://localhost:8080/"
        },
        "outputId": "e9e484ad-4de9-451f-a9fe-f46e8113223a"
      },
      "source": [
        "!pip3 install -U scikit-learn\n"
      ],
      "execution_count": null,
      "outputs": [
        {
          "output_type": "stream",
          "name": "stdout",
          "text": [
            "Requirement already satisfied: scikit-learn in /usr/local/lib/python3.7/dist-packages (1.0.1)\n",
            "Requirement already satisfied: threadpoolctl>=2.0.0 in /usr/local/lib/python3.7/dist-packages (from scikit-learn) (3.0.0)\n",
            "Requirement already satisfied: numpy>=1.14.6 in /usr/local/lib/python3.7/dist-packages (from scikit-learn) (1.19.5)\n",
            "Requirement already satisfied: joblib>=0.11 in /usr/local/lib/python3.7/dist-packages (from scikit-learn) (1.1.0)\n",
            "Requirement already satisfied: scipy>=1.1.0 in /usr/local/lib/python3.7/dist-packages (from scikit-learn) (1.4.1)\n"
          ]
        }
      ]
    },
    {
      "cell_type": "code",
      "metadata": {
        "id": "tQ_5icbD8uI-"
      },
      "source": [
        "from sklearn.metrics import roc_curve\n",
        "fpr, tpr, thresholds = roc_curve(y_predict_f, prediction)\n"
      ],
      "execution_count": null,
      "outputs": []
    },
    {
      "cell_type": "code",
      "metadata": {
        "id": "Jy4RDelo-csb",
        "colab": {
          "base_uri": "https://localhost:8080/",
          "height": 279
        },
        "outputId": "a101677b-ee34-42d3-db94-e06dd1552e12"
      },
      "source": [
        "from matplotlib import pyplot\n",
        "\n",
        "pyplot.plot(fpr, tpr, linestyle='--', label='Normal')\n",
        "pyplot.xlabel('False Positive Rate')\n",
        "pyplot.ylabel('True Positive Rate')\n",
        "pyplot.legend()\n",
        "pyplot.show()"
      ],
      "execution_count": null,
      "outputs": [
        {
          "output_type": "display_data",
          "data": {
            "image/png": "[encoded data removed]",
            "text/plain": [
              "<Figure size 432x288 with 1 Axes>"
            ]
          },
          "metadata": {
            "needs_background": "light"
          }
        }
      ]
    },
    {
      "cell_type": "code",
      "metadata": {
        "id": "r4JnN9VD4BbW",
        "colab": {
          "base_uri": "https://localhost:8080/"
        },
        "outputId": "f603249e-95ef-4d50-82f5-34535847dc1d"
      },
      "source": [
        "## Displaying Predictions\n",
        "print(prediction)\n",
        "print(loss)\n",
        "print(metrics)"
      ],
      "execution_count": null,
      "outputs": [
        {
          "output_type": "stream",
          "name": "stdout",
          "text": [
            "[[0.45076585]\n",
            " [0.30979592]\n",
            " [0.5889428 ]\n",
            " [0.48496914]\n",
            " [0.31018808]\n",
            " [0.3113993 ]\n",
            " [0.3417953 ]\n",
            " [0.27771285]\n",
            " [0.43820247]\n",
            " [0.3978198 ]\n",
            " [0.43639487]\n",
            " [0.40384015]\n",
            " [0.38210097]\n",
            " [0.36471373]\n",
            " [0.4063796 ]\n",
            " [0.57155794]\n",
            " [0.4982058 ]\n",
            " [0.28907737]\n",
            " [0.4564275 ]\n",
            " [0.3571541 ]\n",
            " [0.3583355 ]\n",
            " [0.268847  ]\n",
            " [0.27517232]\n",
            " [0.4002888 ]\n",
            " [0.41482174]\n",
            " [0.31720576]\n",
            " [0.2772738 ]\n",
            " [0.25324023]\n",
            " [0.2440587 ]\n",
            " [0.27974835]\n",
            " [0.30198526]\n",
            " [0.28694603]\n",
            " [0.3683488 ]\n",
            " [0.45495117]\n",
            " [0.49811155]\n",
            " [0.56161404]\n",
            " [0.5337899 ]\n",
            " [0.6270318 ]\n",
            " [0.50974715]\n",
            " [0.5012494 ]\n",
            " [0.35473928]\n",
            " [0.30081108]\n",
            " [0.31553343]\n",
            " [0.31458014]\n",
            " [0.2988378 ]\n",
            " [0.34331122]\n",
            " [0.22614431]\n",
            " [0.22951384]\n",
            " [0.31429794]\n",
            " [0.36871737]\n",
            " [0.30364025]\n",
            " [0.50667465]\n",
            " [0.3908496 ]\n",
            " [0.4233749 ]\n",
            " [0.46271548]\n",
            " [0.5204101 ]\n",
            " [0.5519627 ]\n",
            " [0.48491082]\n",
            " [0.34521136]\n",
            " [0.45446452]\n",
            " [0.49282876]\n",
            " [0.36460397]\n",
            " [0.4504798 ]\n",
            " [0.40000114]\n",
            " [0.4288864 ]\n",
            " [0.5529004 ]\n",
            " [0.508167  ]\n",
            " [0.41926065]\n",
            " [0.3186782 ]\n",
            " [0.28460205]\n",
            " [0.18611263]\n",
            " [0.29331928]\n",
            " [0.4394352 ]\n",
            " [0.42694914]\n",
            " [0.34064433]\n",
            " [0.29937944]\n",
            " [0.34828943]\n",
            " [0.3602438 ]\n",
            " [0.36779165]\n",
            " [0.44788855]\n",
            " [0.4072746 ]\n",
            " [0.2761526 ]\n",
            " [0.3749216 ]\n",
            " [0.45227876]\n",
            " [0.35577613]\n",
            " [0.19410662]\n",
            " [0.2549429 ]\n",
            " [0.34633994]\n",
            " [0.38105568]\n",
            " [0.38206255]\n",
            " [0.379774  ]\n",
            " [0.35003373]\n",
            " [0.38241494]\n",
            " [0.42768204]\n",
            " [0.3930273 ]\n",
            " [0.2746127 ]\n",
            " [0.24285658]\n",
            " [0.23616342]\n",
            " [0.3733002 ]\n",
            " [0.4337079 ]\n",
            " [0.41264114]\n",
            " [0.28473282]\n",
            " [0.4730117 ]\n",
            " [0.35739207]\n",
            " [0.40613842]\n",
            " [0.3582856 ]\n",
            " [0.29283202]\n",
            " [0.33311024]\n",
            " [0.50419223]\n",
            " [0.50294596]\n",
            " [0.5240642 ]\n",
            " [0.4581188 ]\n",
            " [0.46026734]\n",
            " [0.41528797]\n",
            " [0.4310297 ]\n",
            " [0.46234474]\n",
            " [0.5561051 ]\n",
            " [0.598055  ]\n",
            " [0.6103641 ]\n",
            " [0.56008804]\n",
            " [0.7397234 ]\n",
            " [0.5965536 ]\n",
            " [0.62506783]\n",
            " [0.72538334]\n",
            " [0.76762074]\n",
            " [0.696793  ]\n",
            " [0.5265919 ]\n",
            " [0.5469065 ]\n",
            " [0.58495325]\n",
            " [0.5797964 ]\n",
            " [0.6042679 ]\n",
            " [0.57592577]\n",
            " [0.5610227 ]\n",
            " [0.7689258 ]\n",
            " [0.7372575 ]\n",
            " [0.7523506 ]\n",
            " [0.7556079 ]\n",
            " [0.54897076]\n",
            " [0.6226384 ]\n",
            " [0.66194355]\n",
            " [0.6998535 ]\n",
            " [0.677216  ]\n",
            " [0.72531706]\n",
            " [0.6682166 ]\n",
            " [0.64428705]\n",
            " [0.59481025]\n",
            " [0.67576855]\n",
            " [0.71188694]\n",
            " [0.72527426]\n",
            " [0.7052779 ]\n",
            " [0.6722888 ]\n",
            " [0.5612134 ]\n",
            " [0.5153604 ]\n",
            " [0.47801527]\n",
            " [0.5301086 ]\n",
            " [0.5975669 ]\n",
            " [0.51976424]\n",
            " [0.6356866 ]\n",
            " [0.5781485 ]\n",
            " [0.5742461 ]\n",
            " [0.70561844]\n",
            " [0.67213684]\n",
            " [0.56636304]\n",
            " [0.555848  ]\n",
            " [0.5508334 ]\n",
            " [0.515062  ]\n",
            " [0.543486  ]\n",
            " [0.5905529 ]\n",
            " [0.47846973]\n",
            " [0.48024288]\n",
            " [0.46781614]\n",
            " [0.44084358]\n",
            " [0.43239954]\n",
            " [0.46123412]\n",
            " [0.49362594]\n",
            " [0.44092008]\n",
            " [0.42549497]\n",
            " [0.33842266]\n",
            " [0.32484975]\n",
            " [0.5374499 ]\n",
            " [0.59147745]\n",
            " [0.42721972]\n",
            " [0.5507714 ]\n",
            " [0.57546705]\n",
            " [0.42468306]\n",
            " [0.4495658 ]\n",
            " [0.4506829 ]\n",
            " [0.4831262 ]\n",
            " [0.48612127]\n",
            " [0.54410034]\n",
            " [0.6777118 ]\n",
            " [0.5507759 ]\n",
            " [0.552143  ]\n",
            " [0.5186907 ]\n",
            " [0.6891618 ]\n",
            " [0.69932276]\n",
            " [0.72065926]\n",
            " [0.7321306 ]\n",
            " [0.70249885]\n",
            " [0.7733028 ]\n",
            " [0.6986209 ]\n",
            " [0.68036044]\n",
            " [0.65971226]\n",
            " [0.54812336]\n",
            " [0.53389925]\n",
            " [0.4460617 ]\n",
            " [0.50326276]\n",
            " [0.4122581 ]\n",
            " [0.494088  ]\n",
            " [0.4334521 ]\n",
            " [0.50573397]\n",
            " [0.6977945 ]\n",
            " [0.6127915 ]\n",
            " [0.65117604]\n",
            " [0.56898123]\n",
            " [0.57168823]\n",
            " [0.31743872]\n",
            " [0.33137256]\n",
            " [0.45601425]\n",
            " [0.43200493]\n",
            " [0.31563473]\n",
            " [0.40560707]\n",
            " [0.3699991 ]\n",
            " [0.5226567 ]\n",
            " [0.63807833]\n",
            " [0.5639052 ]\n",
            " [0.569676  ]\n",
            " [0.57407635]\n",
            " [0.5611868 ]\n",
            " [0.4413905 ]\n",
            " [0.4081934 ]\n",
            " [0.47976387]\n",
            " [0.41117164]\n",
            " [0.49581143]\n",
            " [0.5906496 ]\n",
            " [0.5386777 ]\n",
            " [0.65921825]\n",
            " [0.69736487]\n",
            " [0.5702853 ]\n",
            " [0.62413913]\n",
            " [0.45835862]\n",
            " [0.4386026 ]\n",
            " [0.5420718 ]\n",
            " [0.51831496]\n",
            " [0.40271375]\n",
            " [0.37700412]\n",
            " [0.39897603]\n",
            " [0.3359457 ]\n",
            " [0.2848417 ]\n",
            " [0.19201879]\n",
            " [0.23774737]\n",
            " [0.3410448 ]\n",
            " [0.32484806]\n",
            " [0.28792462]\n",
            " [0.30066153]\n",
            " [0.29945466]\n",
            " [0.33117047]\n",
            " [0.3809133 ]\n",
            " [0.38025916]\n",
            " [0.47478664]\n",
            " [0.48106432]\n",
            " [0.39787287]\n",
            " [0.43532282]\n",
            " [0.38686797]\n",
            " [0.42607066]\n",
            " [0.4079091 ]\n",
            " [0.28594533]\n",
            " [0.37681124]\n",
            " [0.31333148]\n",
            " [0.32260197]\n",
            " [0.29817384]\n",
            " [0.19232298]\n",
            " [0.25984424]\n",
            " [0.42414448]\n",
            " [0.49733788]\n",
            " [0.4490388 ]\n",
            " [0.36671567]\n",
            " [0.34971622]\n",
            " [0.34871382]\n",
            " [0.5161349 ]]\n",
            "0.6159624457359314\n",
            "0.6785714030265808\n"
          ]
        }
      ]
    }
  ]
}